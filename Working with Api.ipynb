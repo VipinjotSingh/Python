{
 "cells": [
  {
   "cell_type": "code",
   "execution_count": 1,
   "metadata": {},
   "outputs": [
    {
     "name": "stdout",
     "output_type": "stream",
     "text": [
      "{'artists': {'href': 'https://api.spotify.com/v1/search?query=Arijit+Singh&type=artist&offset=0&limit=20', 'items': [{'external_urls': {'spotify': 'https://open.spotify.com/artist/4YRxDV8wJFPHPTeXepOstw'}, 'followers': {'href': None, 'total': 123727032}, 'genres': ['filmi', 'modern bollywood'], 'href': 'https://api.spotify.com/v1/artists/4YRxDV8wJFPHPTeXepOstw', 'id': '4YRxDV8wJFPHPTeXepOstw', 'images': [{'height': 640, 'url': 'https://i.scdn.co/image/ab6761610000e5eb5ba2d75eb08a2d672f9b69b7', 'width': 640}, {'height': 320, 'url': 'https://i.scdn.co/image/ab676161000051745ba2d75eb08a2d672f9b69b7', 'width': 320}, {'height': 160, 'url': 'https://i.scdn.co/image/ab6761610000f1785ba2d75eb08a2d672f9b69b7', 'width': 160}], 'name': 'Arijit Singh', 'popularity': 91, 'type': 'artist', 'uri': 'spotify:artist:4YRxDV8wJFPHPTeXepOstw'}, {'external_urls': {'spotify': 'https://open.spotify.com/artist/06HL4z0CvFAxyc27GXpf02'}, 'followers': {'href': None, 'total': 122864906}, 'genres': ['pop'], 'href': 'https://api.spotify.com/v1/artists/06HL4z0CvFAxyc27GXpf02', 'id': '06HL4z0CvFAxyc27GXpf02', 'images': [{'height': 640, 'url': 'https://i.scdn.co/image/ab6761610000e5ebe672b5f553298dcdccb0e676', 'width': 640}, {'height': 320, 'url': 'https://i.scdn.co/image/ab67616100005174e672b5f553298dcdccb0e676', 'width': 320}, {'height': 160, 'url': 'https://i.scdn.co/image/ab6761610000f178e672b5f553298dcdccb0e676', 'width': 160}], 'name': 'Taylor Swift', 'popularity': 100, 'type': 'artist', 'uri': 'spotify:artist:06HL4z0CvFAxyc27GXpf02'}, {'external_urls': {'spotify': 'https://open.spotify.com/artist/6zrQkGA8EvD1Y4z35lIc2e'}, 'followers': {'href': None, 'total': 2525}, 'genres': [], 'href': 'https://api.spotify.com/v1/artists/6zrQkGA8EvD1Y4z35lIc2e', 'id': '6zrQkGA8EvD1Y4z35lIc2e', 'images': [{'height': 640, 'url': 'https://i.scdn.co/image/ab67616d0000b2731696bcfa3b1a8aeb5b131b72', 'width': 640}, {'height': 300, 'url': 'https://i.scdn.co/image/ab67616d00001e021696bcfa3b1a8aeb5b131b72', 'width': 300}, {'height': 64, 'url': 'https://i.scdn.co/image/ab67616d000048511696bcfa3b1a8aeb5b131b72', 'width': 64}], 'name': 'Arijit Singh', 'popularity': 25, 'type': 'artist', 'uri': 'spotify:artist:6zrQkGA8EvD1Y4z35lIc2e'}, {'external_urls': {'spotify': 'https://open.spotify.com/artist/1wRPtKGflJrBx9BmLsSwlU'}, 'followers': {'href': None, 'total': 38813586}, 'genres': ['filmi', 'indian instrumental', 'modern bollywood'], 'href': 'https://api.spotify.com/v1/artists/1wRPtKGflJrBx9BmLsSwlU', 'id': '1wRPtKGflJrBx9BmLsSwlU', 'images': [{'height': 640, 'url': 'https://i.scdn.co/image/ab6761610000e5ebcb6926f44f620555ba444fca', 'width': 640}, {'height': 320, 'url': 'https://i.scdn.co/image/ab67616100005174cb6926f44f620555ba444fca', 'width': 320}, {'height': 160, 'url': 'https://i.scdn.co/image/ab6761610000f178cb6926f44f620555ba444fca', 'width': 160}], 'name': 'Pritam', 'popularity': 88, 'type': 'artist', 'uri': 'spotify:artist:1wRPtKGflJrBx9BmLsSwlU'}, {'external_urls': {'spotify': 'https://open.spotify.com/artist/1Xyo4u8uXC1ZmMpatF05PJ'}, 'followers': {'href': None, 'total': 92070136}, 'genres': ['canadian contemporary r&b', 'canadian pop', 'pop'], 'href': 'https://api.spotify.com/v1/artists/1Xyo4u8uXC1ZmMpatF05PJ', 'id': '1Xyo4u8uXC1ZmMpatF05PJ', 'images': [{'height': 640, 'url': 'https://i.scdn.co/image/ab6761610000e5eb9e528993a2820267b97f6aae', 'width': 640}, {'height': 320, 'url': 'https://i.scdn.co/image/ab676161000051749e528993a2820267b97f6aae', 'width': 320}, {'height': 160, 'url': 'https://i.scdn.co/image/ab6761610000f1789e528993a2820267b97f6aae', 'width': 160}], 'name': 'The Weeknd', 'popularity': 96, 'type': 'artist', 'uri': 'spotify:artist:1Xyo4u8uXC1ZmMpatF05PJ'}, {'external_urls': {'spotify': 'https://open.spotify.com/artist/2t3Kb2quUlaMbb9HoIud6a'}, 'followers': {'href': None, 'total': 7}, 'genres': [], 'href': 'https://api.spotify.com/v1/artists/2t3Kb2quUlaMbb9HoIud6a', 'id': '2t3Kb2quUlaMbb9HoIud6a', 'images': [], 'name': 'ARIJIT SINGH', 'popularity': 0, 'type': 'artist', 'uri': 'spotify:artist:2t3Kb2quUlaMbb9HoIud6a'}, {'external_urls': {'spotify': 'https://open.spotify.com/artist/0oOet2f43PA68X5RxKobEy'}, 'followers': {'href': None, 'total': 26371117}, 'genres': ['filmi', 'modern bollywood'], 'href': 'https://api.spotify.com/v1/artists/0oOet2f43PA68X5RxKobEy', 'id': '0oOet2f43PA68X5RxKobEy', 'images': [{'height': 640, 'url': 'https://i.scdn.co/image/ab6761610000e5eb36a7262247318ff0f1ad00da', 'width': 640}, {'height': 320, 'url': 'https://i.scdn.co/image/ab6761610000517436a7262247318ff0f1ad00da', 'width': 320}, {'height': 160, 'url': 'https://i.scdn.co/image/ab6761610000f17836a7262247318ff0f1ad00da', 'width': 160}], 'name': 'Shreya Ghoshal', 'popularity': 84, 'type': 'artist', 'uri': 'spotify:artist:0oOet2f43PA68X5RxKobEy'}, {'external_urls': {'spotify': 'https://open.spotify.com/artist/6qqNVTkY8uBg9cP3Jd7DAH'}, 'followers': {'href': None, 'total': 100263894}, 'genres': ['art pop', 'pop'], 'href': 'https://api.spotify.com/v1/artists/6qqNVTkY8uBg9cP3Jd7DAH', 'id': '6qqNVTkY8uBg9cP3Jd7DAH', 'images': [{'height': 640, 'url': 'https://i.scdn.co/image/ab6761610000e5eb4a21b4760d2ecb7b0dcdc8da', 'width': 640}, {'height': 320, 'url': 'https://i.scdn.co/image/ab676161000051744a21b4760d2ecb7b0dcdc8da', 'width': 320}, {'height': 160, 'url': 'https://i.scdn.co/image/ab6761610000f1784a21b4760d2ecb7b0dcdc8da', 'width': 160}], 'name': 'Billie Eilish', 'popularity': 96, 'type': 'artist', 'uri': 'spotify:artist:6qqNVTkY8uBg9cP3Jd7DAH'}, {'external_urls': {'spotify': 'https://open.spotify.com/artist/4b7eynG7cIWCQCukThfBf1'}, 'followers': {'href': None, 'total': 15}, 'genres': [], 'href': 'https://api.spotify.com/v1/artists/4b7eynG7cIWCQCukThfBf1', 'id': '4b7eynG7cIWCQCukThfBf1', 'images': [{'height': 640, 'url': 'https://i.scdn.co/image/ab67616d0000b2731839a2a9870fcef658890100', 'width': 640}, {'height': 300, 'url': 'https://i.scdn.co/image/ab67616d00001e021839a2a9870fcef658890100', 'width': 300}, {'height': 64, 'url': 'https://i.scdn.co/image/ab67616d000048511839a2a9870fcef658890100', 'width': 64}], 'name': 'Arijit sinGH', 'popularity': 0, 'type': 'artist', 'uri': 'spotify:artist:4b7eynG7cIWCQCukThfBf1'}, {'external_urls': {'spotify': 'https://open.spotify.com/artist/2oSONSC9zQ4UonDKnLqksx'}, 'followers': {'href': None, 'total': 27389025}, 'genres': ['classic pakistani pop', 'filmi', 'modern bollywood', 'sufi'], 'href': 'https://api.spotify.com/v1/artists/2oSONSC9zQ4UonDKnLqksx', 'id': '2oSONSC9zQ4UonDKnLqksx', 'images': [{'height': 640, 'url': 'https://i.scdn.co/image/ab6761610000e5ebc40600e02356cc86f0debe84', 'width': 640}, {'height': 320, 'url': 'https://i.scdn.co/image/ab67616100005174c40600e02356cc86f0debe84', 'width': 320}, {'height': 160, 'url': 'https://i.scdn.co/image/ab6761610000f178c40600e02356cc86f0debe84', 'width': 160}], 'name': 'Atif Aslam', 'popularity': 79, 'type': 'artist', 'uri': 'spotify:artist:2oSONSC9zQ4UonDKnLqksx'}, {'external_urls': {'spotify': 'https://open.spotify.com/artist/6eUKZXaKkcviH0Ku9w2n3V'}, 'followers': {'href': None, 'total': 116306869}, 'genres': ['pop', 'singer-songwriter pop', 'uk pop'], 'href': 'https://api.spotify.com/v1/artists/6eUKZXaKkcviH0Ku9w2n3V', 'id': '6eUKZXaKkcviH0Ku9w2n3V', 'images': [{'height': 640, 'url': 'https://i.scdn.co/image/ab6761610000e5eb784daff754ecfe0464ddbeb9', 'width': 640}, {'height': 320, 'url': 'https://i.scdn.co/image/ab67616100005174784daff754ecfe0464ddbeb9', 'width': 320}, {'height': 160, 'url': 'https://i.scdn.co/image/ab6761610000f178784daff754ecfe0464ddbeb9', 'width': 160}], 'name': 'Ed Sheeran', 'popularity': 89, 'type': 'artist', 'uri': 'spotify:artist:6eUKZXaKkcviH0Ku9w2n3V'}, {'external_urls': {'spotify': 'https://open.spotify.com/artist/6dkEMkI2psJ6ONbH5zwxio'}, 'followers': {'href': None, 'total': 31}, 'genres': [], 'href': 'https://api.spotify.com/v1/artists/6dkEMkI2psJ6ONbH5zwxio', 'id': '6dkEMkI2psJ6ONbH5zwxio', 'images': [], 'name': 'Vishal-Shekhar, Arijit Singh, Jaideep Sahni', 'popularity': 0, 'type': 'artist', 'uri': 'spotify:artist:6dkEMkI2psJ6ONbH5zwxio'}, {'external_urls': {'spotify': 'https://open.spotify.com/artist/2fMqTqiTxUDlmcOEPaQSsx'}, 'followers': {'href': None, 'total': 1099263}, 'genres': ['modern bollywood'], 'href': 'https://api.spotify.com/v1/artists/2fMqTqiTxUDlmcOEPaQSsx', 'id': '2fMqTqiTxUDlmcOEPaQSsx', 'images': [{'height': 640, 'url': 'https://i.scdn.co/image/ab6761610000e5eb9ead3cc9a2db015a9871ecdd', 'width': 640}, {'height': 320, 'url': 'https://i.scdn.co/image/ab676161000051749ead3cc9a2db015a9871ecdd', 'width': 320}, {'height': 160, 'url': 'https://i.scdn.co/image/ab6761610000f1789ead3cc9a2db015a9871ecdd', 'width': 160}], 'name': 'Amitabh Bhattacharya', 'popularity': 82, 'type': 'artist', 'uri': 'spotify:artist:2fMqTqiTxUDlmcOEPaQSsx'}, {'external_urls': {'spotify': 'https://open.spotify.com/artist/3TVXtAsR1Inumwj472S9r4'}, 'followers': {'href': None, 'total': 92315159}, 'genres': ['canadian hip hop', 'canadian pop', 'hip hop', 'pop rap', 'rap'], 'href': 'https://api.spotify.com/v1/artists/3TVXtAsR1Inumwj472S9r4', 'id': '3TVXtAsR1Inumwj472S9r4', 'images': [{'height': 640, 'url': 'https://i.scdn.co/image/ab6761610000e5eb4293385d324db8558179afd9', 'width': 640}, {'height': 320, 'url': 'https://i.scdn.co/image/ab676161000051744293385d324db8558179afd9', 'width': 320}, {'height': 160, 'url': 'https://i.scdn.co/image/ab6761610000f1784293385d324db8558179afd9', 'width': 160}], 'name': 'Drake', 'popularity': 96, 'type': 'artist', 'uri': 'spotify:artist:3TVXtAsR1Inumwj472S9r4'}, {'external_urls': {'spotify': 'https://open.spotify.com/artist/2Y9ucTzM97KHCdWGht4F98'}, 'followers': {'href': None, 'total': 1}, 'genres': [], 'href': 'https://api.spotify.com/v1/artists/2Y9ucTzM97KHCdWGht4F98', 'id': '2Y9ucTzM97KHCdWGht4F98', 'images': [{'height': 640, 'url': 'https://i.scdn.co/image/ab67616d0000b2735a31caef9a3cf1d75f4ced8f', 'width': 640}, {'height': 300, 'url': 'https://i.scdn.co/image/ab67616d00001e025a31caef9a3cf1d75f4ced8f', 'width': 300}, {'height': 64, 'url': 'https://i.scdn.co/image/ab67616d000048515a31caef9a3cf1d75f4ced8f', 'width': 64}], 'name': 'Arijit singh', 'popularity': 0, 'type': 'artist', 'uri': 'spotify:artist:2Y9ucTzM97KHCdWGht4F98'}, {'external_urls': {'spotify': 'https://open.spotify.com/artist/4fEkbug6kZzzJ8eYX6Kbbp'}, 'followers': {'href': None, 'total': 18869498}, 'genres': ['filmi', 'modern bollywood'], 'href': 'https://api.spotify.com/v1/artists/4fEkbug6kZzzJ8eYX6Kbbp', 'id': '4fEkbug6kZzzJ8eYX6Kbbp', 'images': [{'height': 640, 'url': 'https://i.scdn.co/image/ab6761610000e5ebb09a31f853166e721d4d46b2', 'width': 640}, {'height': 320, 'url': 'https://i.scdn.co/image/ab67616100005174b09a31f853166e721d4d46b2', 'width': 320}, {'height': 160, 'url': 'https://i.scdn.co/image/ab6761610000f178b09a31f853166e721d4d46b2', 'width': 160}], 'name': 'KK', 'popularity': 78, 'type': 'artist', 'uri': 'spotify:artist:4fEkbug6kZzzJ8eYX6Kbbp'}, {'external_urls': {'spotify': 'https://open.spotify.com/artist/66CXWjxzNUsdJxJ2JdwvnR'}, 'followers': {'href': None, 'total': 100170663}, 'genres': ['pop'], 'href': 'https://api.spotify.com/v1/artists/66CXWjxzNUsdJxJ2JdwvnR', 'id': '66CXWjxzNUsdJxJ2JdwvnR', 'images': [{'height': 640, 'url': 'https://i.scdn.co/image/ab6761610000e5eb40b5c07ab77b6b1a9075fdc0', 'width': 640}, {'height': 320, 'url': 'https://i.scdn.co/image/ab6761610000517440b5c07ab77b6b1a9075fdc0', 'width': 320}, {'height': 160, 'url': 'https://i.scdn.co/image/ab6761610000f17840b5c07ab77b6b1a9075fdc0', 'width': 160}], 'name': 'Ariana Grande', 'popularity': 92, 'type': 'artist', 'uri': 'spotify:artist:66CXWjxzNUsdJxJ2JdwvnR'}, {'external_urls': {'spotify': 'https://open.spotify.com/artist/11P6oIAn8olEk5FJSbhAUy'}, 'followers': {'href': None, 'total': 12}, 'genres': [], 'href': 'https://api.spotify.com/v1/artists/11P6oIAn8olEk5FJSbhAUy', 'id': '11P6oIAn8olEk5FJSbhAUy', 'images': [], 'name': 'Arijit Singh', 'popularity': 0, 'type': 'artist', 'uri': 'spotify:artist:11P6oIAn8olEk5FJSbhAUy'}, {'external_urls': {'spotify': 'https://open.spotify.com/artist/1mBydYMVBECdDmMfE2sEUO'}, 'followers': {'href': None, 'total': 3321772}, 'genres': ['filmi', 'gujarati pop', 'modern bollywood'], 'href': 'https://api.spotify.com/v1/artists/1mBydYMVBECdDmMfE2sEUO', 'id': '1mBydYMVBECdDmMfE2sEUO', 'images': [{'height': 640, 'url': 'https://i.scdn.co/image/ab6761610000e5ebbd6fbc7d0973cc33940781ad', 'width': 640}, {'height': 320, 'url': 'https://i.scdn.co/image/ab67616100005174bd6fbc7d0973cc33940781ad', 'width': 320}, {'height': 160, 'url': 'https://i.scdn.co/image/ab6761610000f178bd6fbc7d0973cc33940781ad', 'width': 160}], 'name': 'Sachin-Jigar', 'popularity': 82, 'type': 'artist', 'uri': 'spotify:artist:1mBydYMVBECdDmMfE2sEUO'}, {'external_urls': {'spotify': 'https://open.spotify.com/artist/4q3ewBCX7sLwd24euuV69X'}, 'followers': {'href': None, 'total': 86026086}, 'genres': ['reggaeton', 'trap latino', 'urbano latino'], 'href': 'https://api.spotify.com/v1/artists/4q3ewBCX7sLwd24euuV69X', 'id': '4q3ewBCX7sLwd24euuV69X', 'images': [{'height': 640, 'url': 'https://i.scdn.co/image/ab6761610000e5eb744a4243fb6cc938011a98f4', 'width': 640}, {'height': 320, 'url': 'https://i.scdn.co/image/ab67616100005174744a4243fb6cc938011a98f4', 'width': 320}, {'height': 160, 'url': 'https://i.scdn.co/image/ab6761610000f178744a4243fb6cc938011a98f4', 'width': 160}], 'name': 'Bad Bunny', 'popularity': 95, 'type': 'artist', 'uri': 'spotify:artist:4q3ewBCX7sLwd24euuV69X'}], 'limit': 20, 'next': 'https://api.spotify.com/v1/search?query=Arijit+Singh&type=artist&offset=20&limit=20', 'offset': 0, 'previous': None, 'total': 822}}\n"
     ]
    }
   ],
   "source": [
    "import requests #HTTPS LIBRARY IN PYTHON\n",
    "import base64 # USED TO ENCODE DECODE BINARY DATA\n",
    "\n",
    "#Client ID and Client Secret From the Spotify developer portal \n",
    "client_id = '15aee5a54a104597aae15a29717fa974'\n",
    "client_secret = '8311a1e80c2a466884ce94d4c9da26bb'\n",
    "\n",
    "# Encoding Client ID and Client Secret\n",
    "encoded_credentials = base64.b64encode(f'{client_id}:{client_secret}'.encode()).decode()\n",
    "\n",
    "# API endpoint and headers from Spotify Api Portal\n",
    "endpoint = 'https://accounts.spotify.com/api/token'\n",
    "headers = {\n",
    "    'Authorization': f'Basic {encoded_credentials}',\n",
    "    'Content-Type': 'application/x-www-form-urlencoded'\n",
    "}\n",
    "\n",
    "# data for the POST request\n",
    "data = {\n",
    "    'grant_type': 'client_credentials'\n",
    "}\n",
    "\n",
    "# POST request to obtain an Access token \n",
    "response = requests.post(endpoint, headers=headers, data=data)\n",
    "\n",
    "#response was successful Code 200 (is for the success of the code in Api's)\n",
    "if response.status_code == 200:\n",
    "    access_token = response.json()['access_token']  #access token from the response\n",
    "\n",
    "    # Using the access token and GET request to the Spotify API also from Spotify Api portal\n",
    "    endpoint = 'https://api.spotify.com/v1/search'\n",
    "    headers = {\n",
    "        'Authorization': f'Bearer {access_token}'\n",
    "    }\n",
    "    params = {\n",
    "        'q': 'Arijit Singh', #INFO OF ARIJIT SINGH'S SPOTIFY\n",
    "        'type': 'artist'\n",
    "    }\n",
    "\n",
    "    response = requests.get(endpoint, headers=headers, params=params)\n",
    "\n",
    "    if response.status_code == 200:\n",
    "        #data from the response\n",
    "        data = response.json()\n",
    "\n",
    "        # Print the data\n",
    "        print(data)\n",
    "    else:\n",
    "        print('Failed to get data')\n",
    "else:\n",
    "    print('Sorry I Failed you')"
   ]
  },
  {
   "cell_type": "code",
   "execution_count": 9,
   "metadata": {},
   "outputs": [
    {
     "name": "stdout",
     "output_type": "stream",
     "text": [
      "                                           name  duration_ms  duration_min\n",
      "0                Sajni (From \"Laapataa Ladies\")       170044      2.834067\n",
      "1                  Heeriye (feat. Arijit Singh)       194857      3.247617\n",
      "2  Tujhe Kitna Chahne Lage (From \"Kabir Singh\")       284779      4.746317\n",
      "3                                       Chaleya       200373      3.339550\n",
      "4     Kasturi (From \"Amar Prem Ki Prem Kahani\")       232568      3.876133\n",
      "5                      Satranga (From \"ANIMAL\")       271169      4.519483\n",
      "6                       Chhod Diya - Trap Remix       131420      2.190333\n",
      "7                        Chaleya (From \"Jawan\")       200373      3.339550\n",
      "8                               Tere Pyaar Mein       266094      4.434900\n",
      "9                                      Soulmate       213599      3.559983\n"
     ]
    }
   ],
   "source": [
    "import spotipy # LIBRARY TO INTERACT WITH SPOTIFY WEB API\n",
    "import pandas as pd\n",
    "\n",
    "client_id = '15aee5a54a104597aae15a29717fa974'\n",
    "client_secret = '8311a1e80c2a466884ce94d4c9da26bb'\n",
    "client_credentials_manager = spotipy.oauth2.SpotifyClientCredentials(client_id=client_id, client_secret=client_secret)\n",
    "sp = spotipy.Spotify(client_credentials_manager=client_credentials_manager) #DOCUMENTATION OF SPOTIPY FOR MORE\n",
    "\n",
    "#Arijit Singh's songs\n",
    "results = sp.search(q='artist:Arijit Singh', type='track')\n",
    "\n",
    "#list to store the song data\n",
    "song_data = []\n",
    "\n",
    "# Loop through results and extract the song data\n",
    "for item in results['tracks']['items']:\n",
    "    song_data.append({\n",
    "        'name': item['name'],\n",
    "        'duration_ms': item['duration_ms']\n",
    "    })\n",
    "\n",
    "#pandas DataFrame from the song data\n",
    "df = pd.DataFrame(song_data)\n",
    "\n",
    "#duration from milliseconds to minutes\n",
    "df['duration_min'] = df['duration_ms'] / 60000\n",
    "\n",
    "# Print the song data\n",
    "print(df)\n"
   ]
  },
  {
   "cell_type": "code",
   "execution_count": 4,
   "metadata": {},
   "outputs": [
    {
     "name": "stdout",
     "output_type": "stream",
     "text": [
      "200\n",
      "{'status': {'isOverriden': False, 'replyCode': 0, 'replyText': '0', 'memo': None, 'externalReferenceNo': '8529634', 'internalReferenceNumber': '2021362122560508', 'postingDate': {'dateString': '20211228000000'}, 'errorCode': '0', 'extendedReply': {'messages': None}, 'validationErrors': None, 'userReferenceNumber': None}, 'maintenanceType': None, 'configVersionId': None, 'responseString': {'customerInformationDTO': {'primaryCustomerEmail': 'DUMMY@TESTDUMMY.IN', 'primaryCustomerPanStatus': 'NOT AVAILABLE', 'relationshipDescription': 'Sole Owner', 'primaryCustomerFullName': 'TEST FULL NAME', 'relationshipCode': 'SOW', 'customerTypeDescription': 'Senior Citizen', 'primaryCustomerMobileNumber': '919988647600'}, 'casaAccountInformationDTO': {'accountTitle': 'GOVERNMET OF MAHARASHTRADDODEPT87', 'accountType': 'SAVING', 'branchName': 'WORLI - SANDOZ HOUSE', 'productCodeDescription': 'SAVINGS ACCOUNT - SALARY (CLASSIC)', 'accountNumber': '50100100873321  ', 'flgNominee': 'N', 'accountStatusDescription': 'Dormant', 'accountStatus': 7, 'branchCode': 240, 'branchCity': 'MUMBAI', 'dateAccountOpen': '24-01-2017', 'flgJointAccount': 'N', 'branchIFSCCode': 'HDFC0000240', 'productTypeDescription': 'Resident', 'micrCode': '400240002', 'currencyCodeDescription': 'INDIAN RUPEES', 'productType': 'C'}}}\n"
     ]
    }
   ],
   "source": [
    "#HDFC BANK API WORKING\n",
    "\n",
    "import requests\n",
    "import pandas as pd\n",
    "\n",
    "#FROM THE PORTAL ITSELF\n",
    "url = \"https://api-tryitout-uat.hdfcbank.com/API/OnlineCashDeposit/Sandbox/Fetch_Cust_Acct_Info\"\n",
    "headers = {\n",
    "    \"apikey\": \"aHNDiZ5fj52HXscBQMBEJwdG3BBNjBNNaeCyKt5ff4DL6RmO\",  # Replace with your actual API key\n",
    "    \"Content-Type\": \"application/json\"\n",
    "}\n",
    "\n",
    "data = {\n",
    "    # ... your request data\n",
    "}\n",
    "\n",
    "response = requests.post(url, headers=headers, json=data)\n",
    "print(response.status_code)\n",
    "print(response.json())"
   ]
  },
  {
   "cell_type": "code",
   "execution_count": 5,
   "metadata": {},
   "outputs": [
    {
     "name": "stdout",
     "output_type": "stream",
     "text": [
      "                                                     status maintenanceType   \n",
      "isOverriden                                           False            None  \\\n",
      "replyCode                                                 0            None   \n",
      "replyText                                                 0            None   \n",
      "memo                                                   None            None   \n",
      "externalReferenceNo                                 8529634            None   \n",
      "internalReferenceNumber                    2021362122560508            None   \n",
      "postingDate                {'dateString': '20211228000000'}            None   \n",
      "errorCode                                                 0            None   \n",
      "extendedReply                            {'messages': None}            None   \n",
      "validationErrors                                       None            None   \n",
      "userReferenceNumber                                    None            None   \n",
      "customerInformationDTO                                  NaN            None   \n",
      "casaAccountInformationDTO                               NaN            None   \n",
      "\n",
      "                          configVersionId   \n",
      "isOverriden                          None  \\\n",
      "replyCode                            None   \n",
      "replyText                            None   \n",
      "memo                                 None   \n",
      "externalReferenceNo                  None   \n",
      "internalReferenceNumber              None   \n",
      "postingDate                          None   \n",
      "errorCode                            None   \n",
      "extendedReply                        None   \n",
      "validationErrors                     None   \n",
      "userReferenceNumber                  None   \n",
      "customerInformationDTO               None   \n",
      "casaAccountInformationDTO            None   \n",
      "\n",
      "                                                              responseString  \n",
      "isOverriden                                                              NaN  \n",
      "replyCode                                                                NaN  \n",
      "replyText                                                                NaN  \n",
      "memo                                                                     NaN  \n",
      "externalReferenceNo                                                      NaN  \n",
      "internalReferenceNumber                                                  NaN  \n",
      "postingDate                                                              NaN  \n",
      "errorCode                                                                NaN  \n",
      "extendedReply                                                            NaN  \n",
      "validationErrors                                                         NaN  \n",
      "userReferenceNumber                                                      NaN  \n",
      "customerInformationDTO     {'primaryCustomerEmail': 'DUMMY@TESTDUMMY.IN',...  \n",
      "casaAccountInformationDTO  {'accountTitle': 'GOVERNMET OF MAHARASHTRADDOD...  \n"
     ]
    }
   ],
   "source": [
    "json_data = response.json()\n",
    "df = pd.DataFrame(json_data)\n",
    "print(df)"
   ]
  },
  {
   "cell_type": "code",
   "execution_count": null,
   "metadata": {},
   "outputs": [],
   "source": []
  }
 ],
 "metadata": {
  "kernelspec": {
   "display_name": "Python 3",
   "language": "python",
   "name": "python3"
  },
  "language_info": {
   "codemirror_mode": {
    "name": "ipython",
    "version": 3
   },
   "file_extension": ".py",
   "mimetype": "text/x-python",
   "name": "python",
   "nbconvert_exporter": "python",
   "pygments_lexer": "ipython3",
   "version": "3.11.3"
  }
 },
 "nbformat": 4,
 "nbformat_minor": 2
}
