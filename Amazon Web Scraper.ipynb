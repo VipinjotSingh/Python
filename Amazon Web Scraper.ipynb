{
 "cells": [
  {
   "cell_type": "code",
   "execution_count": 54,
   "metadata": {},
   "outputs": [],
   "source": [
    "from bs4 import BeautifulSoup\n",
    "import requests\n",
    "import smtplib\n",
    "import time\n",
    "import datetime\n"
   ]
  },
  {
   "cell_type": "code",
   "execution_count": 55,
   "metadata": {},
   "outputs": [],
   "source": [
    "URL = 'https://www.amazon.in/Apple-iPhone-15-128-GB/dp/B0CHX1W1XY/ref=sr_1_5?crid=2AB8W766PI408&dib=eyJ2IjoiMSJ9.q9e87DdQIp4NHQiQW7o8L5lNAJD6_AKaPZDHk_mfARmTiwIcm2o-FiCu8y2NH4WAN459QCo5pWou1efP5xQgaULEeR_KDfDN8HCEcgAU4iIH-a7EDrPtGdfshvoUSo1GYxEYEPP79snUQ6boI5P25gteHBwMN0bLVe-tRlC8IuNi1VCcajaVYNxhbyktkhNVM53C1xK14nVDeM0O_LvNnC2FPM1PHIK3GXeyZfePtT8.VyDxe69DvyjxkIZXSTntnRNVadU82Trup3NlMyWIEPI&dib_tag=se&keywords=apple&qid=1716710897&sprefix=ap%2Caps%2C268&sr=8-5&th=1'\n",
    "\n",
    "Headers = {\"User-Agent\": \"Mozilla/5.0 (Windows NT 10.0; Win64; x64) AppleWebKit/537.36 (KHTML, like Gecko) Chrome/125.0.0.0 Safari/537.36\"}\n",
    "Page = requests.get(URL, headers=Headers)"
   ]
  },
  {
   "cell_type": "code",
   "execution_count": 56,
   "metadata": {},
   "outputs": [
    {
     "name": "stdout",
     "output_type": "stream",
     "text": [
      "<!DOCTYPE html>\n",
      "\n",
      "<!--[if lt IE 7]> <html lang=\"en-us\" class=\"a-no-js a-lt-ie9 a-lt-ie8 a-lt-ie7\"> <![endif]-->\n",
      "<!--[if IE 7]>    <html lang=\"en-us\" class=\"a-no-js a-lt-ie9 a-lt-ie8\"> <![endif]-->\n",
      "<!--[if IE 8]>    <html lang=\"en-us\" class=\"a-no-js a-lt-ie9\"> <![endif]-->\n",
      "<!--[if gt IE 8]><!-->\n",
      "<html class=\"a-no-js\" lang=\"en-us\">\n",
      "<!--<![endif]-->\n",
      "<head>\n",
      "<meta content=\"text/html; charset=utf-8\" http-equiv=\"content-type\"/>\n",
      "<meta charset=\"utf-8\"/>\n",
      "<meta content=\"IE=edge,chrome=1\" http-equiv=\"X-UA-Compatible\"/>\n",
      "<title dir=\"ltr\">\n",
      "   Amazon.in\n",
      "  </title>\n",
      "<meta content=\"width=device-width\" name=\"viewport\"/>\n",
      "<link href=\"https://images-na.ssl-images-amazon.com/images/G/01/AUIClients/AmazonUI-3c913031596ca78a3768f4e934b1cc02ce238101.secure.min._V1_.css\" rel=\"stylesheet\"/>\n",
      "<script>\n",
      "   if (true === true) {\n",
      "    var ue_t0 = (+ new Date()),\n",
      "        ue_csm = window,\n",
      "        ue = { t0: ue_t0, d: function() { return (+new Date() - ue_t0); } },\n",
      "        ue_furl = \"fls-eu.amazon.in\",\n",
      "        ue_mid = \"A21TJRUUN4KGV\",\n",
      "        ue_sid = (document.cookie.match(/session-id=([0-9-]+)/) || [])[1],\n",
      "        ue_sn = \"opfcaptcha.amazon.in\",\n",
      "        ue_id = '0XB88RQ2SATXJ4193MAA';\n",
      "}\n",
      "  </script>\n",
      "</head>\n",
      "<body>\n",
      "<!--\n",
      "        To discuss automated access to Amazon data please contact api-services-support@amazon.com.\n",
      "        For information about migrating to our APIs refer to our Marketplace APIs at https://developer.amazonservices.in/ref=rm_c_sv, or our Product Advertising API at https://affiliate-program.amazon.in/gp/advertising/api/detail/main.html/ref=rm_c_ac for advertising use cases.\n",
      "-->\n",
      "<!--\n",
      "Correios.DoNotSend\n",
      "-->\n",
      "<div class=\"a-container a-padding-double-large\" style=\"min-width:350px;padding:44px 0 !important\">\n",
      "<div class=\"a-row a-spacing-double-large\" style=\"width: 350px; margin: 0 auto\">\n",
      "<div class=\"a-row a-spacing-medium a-text-center\">\n",
      "<i class=\"a-icon a-logo\">\n",
      "</i>\n",
      "</div>\n",
      "<div class=\"a-box a-alert a-alert-info a-spacing-base\">\n",
      "<div class=\"a-box-inner\">\n",
      "<i class=\"a-icon a-icon-alert\">\n",
      "</i>\n",
      "<h4>\n",
      "       Enter the characters you see below\n",
      "      </h4>\n",
      "<p class=\"a-last\">\n",
      "       Sorry, we just need to make sure you're not a robot. For best results, please make sure your browser is accepting cookies.\n",
      "      </p>\n",
      "</div>\n",
      "</div>\n",
      "<div class=\"a-section\">\n",
      "<div class=\"a-box a-color-offset-background\">\n",
      "<div class=\"a-box-inner a-padding-extra-large\">\n",
      "<form action=\"/errors/validateCaptcha\" method=\"get\" name=\"\">\n",
      "<input name=\"amzn\" type=\"hidden\" value=\"H61kKj25AWAjV3xwaQaUbg==\"/>\n",
      "<input name=\"amzn-r\" type=\"hidden\" value=\"/Apple-iPhone-15-128-GB/dp/B0CHX1W1XY/ref=sr_1_5?crid=2AB8W766PI408&amp;dib=eyJ2IjoiMSJ9.q9e87DdQIp4NHQiQW7o8L5lNAJD6_AKaPZDHk_mfARmTiwIcm2o-FiCu8y2NH4WAN459QCo5pWou1efP5xQgaULEeR_KDfDN8HCEcgAU4iIH-a7EDrPtGdfshvoUSo1GYxEYEPP79snUQ6boI5P25gteHBwMN0bLVe-tRlC8IuNi1VCcajaVYNxhbyktkhNVM53C1xK14nVDeM0O_LvNnC2FPM1PHIK3GXeyZfePtT8.VyDxe69DvyjxkIZXSTntnRNVadU82Trup3NlMyWIEPI&amp;dib_tag=se&amp;keywords=apple&amp;qid=1716710897&amp;sprefix=ap%2Caps%2C268&amp;sr=8-5&amp;th=1\"/>\n",
      "<div class=\"a-row a-spacing-large\">\n",
      "<div class=\"a-box\">\n",
      "<div class=\"a-box-inner\">\n",
      "<h4>\n",
      "            Type the characters you see in this image:\n",
      "           </h4>\n",
      "<!-- For automated access to price change or offer listing change events,\n",
      "                                             please refer to the MWS Subscription API:\n",
      "                                             https://developer.amazonservices.in/gp/mws/api.html/276-5247872-0590350?ie=UTF8&section=subscriptions&group=subscriptions&version=latest\n",
      "                                        -->\n",
      "<div class=\"a-row a-text-center\">\n",
      "<img src=\"https://images-na.ssl-images-amazon.com/captcha/bysppkyq/Captcha_dswjkebdai.jpg\"/>\n",
      "</div>\n",
      "<div class=\"a-row a-spacing-base\">\n",
      "<div class=\"a-row\">\n",
      "<div class=\"a-column a-span6\">\n",
      "</div>\n",
      "<div class=\"a-column a-span6 a-span-last a-text-right\">\n",
      "<a onclick=\"window.location.reload()\">\n",
      "               Try different image\n",
      "              </a>\n",
      "</div>\n",
      "</div>\n",
      "<input autocapitalize=\"off\" autocomplete=\"off\" autocorrect=\"off\" class=\"a-span12\" id=\"captchacharacters\" name=\"field-keywords\" placeholder=\"Type characters\" spellcheck=\"false\" type=\"text\"/>\n",
      "</div>\n",
      "</div>\n",
      "</div>\n",
      "</div>\n",
      "<div class=\"a-section a-spacing-extra-large\">\n",
      "<div class=\"a-row\">\n",
      "<span class=\"a-button a-button-primary a-span12\">\n",
      "<span class=\"a-button-inner\">\n",
      "<button class=\"a-button-text\" type=\"submit\">\n",
      "             Continue shopping\n",
      "            </button>\n",
      "</span>\n",
      "</span>\n",
      "</div>\n",
      "</div>\n",
      "</form>\n",
      "</div>\n",
      "</div>\n",
      "</div>\n",
      "</div>\n",
      "<div class=\"a-divider a-divider-section\">\n",
      "<div class=\"a-divider-inner\">\n",
      "</div>\n",
      "</div>\n",
      "<div class=\"a-text-center a-spacing-small a-size-mini\">\n",
      "<a href=\"https://www.amazon.in/gp/help/customer/display.html/ref=footer_cou?ie=UTF8&amp;nodeId=200545940\">\n",
      "     Conditions of Use &amp; Sale\n",
      "    </a>\n",
      "<span class=\"a-letter-space\">\n",
      "</span>\n",
      "<span class=\"a-letter-space\">\n",
      "</span>\n",
      "<span class=\"a-letter-space\">\n",
      "</span>\n",
      "<span class=\"a-letter-space\">\n",
      "</span>\n",
      "<a href=\"https://www.amazon.in/gp/help/customer/display.html/ref=footer_privacy?ie=UTF8&amp;nodeId=200534380\">\n",
      "     Privacy Notice\n",
      "    </a>\n",
      "</div>\n",
      "<div class=\"a-text-center a-size-mini a-color-secondary\">\n",
      "    © 1996-2015, Amazon.com, Inc. or its affiliates\n",
      "    <script>\n",
      "     if (true === true) {\n",
      "             document.write('<img src=\"https://fls-eu.amaz'+'on.in/'+'1/oc-csi/1/OP/requestId=0XB88RQ2SATXJ4193MAA&js=1\" />');\n",
      "           };\n",
      "    </script>\n",
      "<noscript>\n",
      "<img src=\"https://fls-eu.amazon.in/1/oc-csi/1/OP/requestId=0XB88RQ2SATXJ4193MAA&amp;js=0\"/>\n",
      "</noscript>\n",
      "</div>\n",
      "</div>\n",
      "<script>\n",
      "   if (true === true) {\n",
      "        var head = document.getElementsByTagName('head')[0],\n",
      "            prefix = \"https://images-eu.ssl-images-amazon.com/images/G/01/csminstrumentation/\",\n",
      "            elem = document.createElement(\"script\");\n",
      "        elem.src = prefix + \"csm-captcha-instrumentation.min.js\";\n",
      "        head.appendChild(elem);\n",
      "\n",
      "        elem = document.createElement(\"script\");\n",
      "        elem.src = prefix + \"rd-script-6d68177fa6061598e9509dc4b5bdd08d.js\";\n",
      "        head.appendChild(elem);\n",
      "    }\n",
      "  </script>\n",
      "</body>\n",
      "</html>\n",
      "\n"
     ]
    }
   ],
   "source": [
    "\n",
    "Soup1 = BeautifulSoup(Page.content, \"html.parser\")\n",
    "\n",
    "Soup2 = BeautifulSoup(Soup1.prettify(), \"html.parser\") \n",
    "print(Soup2)"
   ]
  },
  {
   "cell_type": "code",
   "execution_count": 73,
   "metadata": {},
   "outputs": [
    {
     "ename": "AttributeError",
     "evalue": "'NoneType' object has no attribute 'get_text'",
     "output_type": "error",
     "traceback": [
      "\u001b[1;31m---------------------------------------------------------------------------\u001b[0m",
      "\u001b[1;31mAttributeError\u001b[0m                            Traceback (most recent call last)",
      "Cell \u001b[1;32mIn[73], line 1\u001b[0m\n\u001b[1;32m----> 1\u001b[0m title \u001b[38;5;241m=\u001b[39m \u001b[43mSoup2\u001b[49m\u001b[38;5;241;43m.\u001b[39;49m\u001b[43mfind\u001b[49m\u001b[43m(\u001b[49m\u001b[38;5;28;43mid\u001b[39;49m\u001b[38;5;241;43m=\u001b[39;49m\u001b[38;5;124;43m'\u001b[39;49m\u001b[38;5;124;43mproductTitle\u001b[39;49m\u001b[38;5;124;43m'\u001b[39;49m\u001b[43m)\u001b[49m\u001b[38;5;241;43m.\u001b[39;49m\u001b[43mget_text\u001b[49m()\n\u001b[0;32m      2\u001b[0m \u001b[38;5;28mprint\u001b[39m(title)\n\u001b[0;32m      3\u001b[0m price \u001b[38;5;241m=\u001b[39m Soup2\u001b[38;5;241m.\u001b[39mfind(\u001b[38;5;124m'\u001b[39m\u001b[38;5;124mspan\u001b[39m\u001b[38;5;124m'\u001b[39m, class_\u001b[38;5;241m=\u001b[39m\u001b[38;5;124m'\u001b[39m\u001b[38;5;124ma-price-whole\u001b[39m\u001b[38;5;124m'\u001b[39m)\u001b[38;5;241m.\u001b[39mget_text()\n",
      "\u001b[1;31mAttributeError\u001b[0m: 'NoneType' object has no attribute 'get_text'"
     ]
    }
   ],
   "source": [
    "title = Soup2.find(id='productTitle').get_text()\n",
    "print(title)\n",
    "price = Soup2.find('span', class_='a-price-whole').get_text()\n",
    "print(price)"
   ]
  },
  {
   "cell_type": "code",
   "execution_count": 68,
   "metadata": {},
   "outputs": [
    {
     "name": "stdout",
     "output_type": "stream",
     "text": [
      "Apple iPhone 15 (128 GB) - Black\n",
      "71,499\n",
      "                                 \n",
      "                                  .\n"
     ]
    }
   ],
   "source": [
    "price = price.strip()\n",
    "title = title.strip()\n",
    "print(title)\n",
    "print(price)"
   ]
  },
  {
   "cell_type": "code",
   "execution_count": 69,
   "metadata": {},
   "outputs": [
    {
     "name": "stdout",
     "output_type": "stream",
     "text": [
      "CSV file created successfully!\n"
     ]
    }
   ],
   "source": [
    "import csv\n",
    "\n",
    "header = ['Title', 'Price']\n",
    "data = [title, price]  # Assuming you already retrieved title and price using BeautifulSoup\n",
    "\n",
    "with open('AmazonWebScraperDataset.csv', 'w', newline='', encoding='UTF8') as f:\n",
    "  writer = csv.writer(f)\n",
    "  # Write the header row\n",
    "  writer.writerow(header)\n",
    "  # Write the data row\n",
    "  writer.writerow(data)\n",
    "\n",
    "print(\"CSV file created successfully!\")"
   ]
  },
  {
   "cell_type": "code",
   "execution_count": 70,
   "metadata": {},
   "outputs": [
    {
     "name": "stdout",
     "output_type": "stream",
     "text": [
      "2024-05-29\n"
     ]
    }
   ],
   "source": [
    "import datetime\n",
    "today = datetime.date.today()\n",
    "print(today)"
   ]
  },
  {
   "cell_type": "code",
   "execution_count": 71,
   "metadata": {},
   "outputs": [
    {
     "name": "stdout",
     "output_type": "stream",
     "text": [
      "CSV file created successfully!\n"
     ]
    }
   ],
   "source": [
    "import csv\n",
    "\n",
    "header = ['Title', 'Price', 'Date']\n",
    "data = [title, price, today]  # Assuming you already retrieved title and price using BeautifulSoup\n",
    "\n",
    "with open('AmazonWebScraperDataset.csv', 'w', newline='', encoding='UTF8') as f:\n",
    "  writer = csv.writer(f)\n",
    "  # Write the header row\n",
    "  writer.writerow(header)\n",
    "  # Write the data row\n",
    "  writer.writerow(data)\n",
    "\n",
    "print(\"CSV file created successfully!\")"
   ]
  },
  {
   "cell_type": "code",
   "execution_count": 72,
   "metadata": {},
   "outputs": [
    {
     "name": "stdout",
     "output_type": "stream",
     "text": [
      "                              Title   \n",
      "0  Apple iPhone 15 (128 GB) - Black  \\\n",
      "\n",
      "                                               Price        Date  \n",
      "0  71,499\\n                                 \\n   ...  2024-05-29  \n"
     ]
    }
   ],
   "source": [
    "import pandas as pd \n",
    "df = pd.read_csv(r'C:\\Users\\Vipinjot Singh\\Desktop\\pandas\\AmazonWebScraperDataset.csv') \n",
    "print(df)"
   ]
  },
  {
   "cell_type": "code",
   "execution_count": 64,
   "metadata": {},
   "outputs": [],
   "source": [
    "\n",
    "with open('AmazonWebScraperDataset.csv', 'a+', newline='', encoding='UTF8') as f:\n",
    "  writer = csv.writer(f)\n",
    "  # Write the data row\n",
    "  writer.writerow(data)"
   ]
  },
  {
   "cell_type": "code",
   "execution_count": null,
   "metadata": {},
   "outputs": [],
   "source": [
    "def check_price():\n",
    "    URL = 'https://www.amazon.in/Apple-iPhone-15-128-GB/dp/B0CHX1W1XY/ref=sr_1_5?crid=2AB8W766PI408&dib=eyJ2IjoiMSJ9.q9e87DdQIp4NHQiQW7o8L5lNAJD6_AKaPZDHk_mfARmTiwIcm2o-FiCu8y2NH4WAN459QCo5pWou1efP5xQgaULEeR_KDfDN8HCEcgAU4iIH-a7EDrPtGdfshvoUSo1GYxEYEPP79snUQ6boI5P25gteHBwMN0bLVe-tRlC8IuNi1VCcajaVYNxhbyktkhNVM53C1xK14nVDeM0O_LvNnC2FPM1PHIK3GXeyZfePtT8.VyDxe69DvyjxkIZXSTntnRNVadU82Trup3NlMyWIEPI&dib_tag=se&keywords=apple&qid=1716710897&sprefix=ap%2Caps%2C268&sr=8-5&th=1'\n",
    "\n",
    "    Headers = {\"User-Agent\": \"Mozilla/5.0 (Windows NT 10.0; Win64; x64) AppleWebKit/537.36 (KHTML, like Gecko) Chrome/125.0.0.0 Safari/537.36\"}\n",
    "    Page = requests.get(URL, headers=Headers)\n",
    "    Soup1 = BeautifulSoup(Page.content, \"html.parser\")\n",
    "\n",
    "    Soup2 = BeautifulSoup(Soup1.prettify(), \"html.parser\") \n",
    "\n",
    "    title = Soup2.find(id='productTitle').get_text()\n",
    "\n",
    "    price = Soup2.find('span', class_='a-price-whole').get_text()\n",
    "    price = price.strip()\n",
    "    title = title.strip()\n",
    "    import datetime\n",
    "    today = datetime.date.today()\n",
    "    import csv\n",
    "\n",
    "    header = ['Title', 'Price', 'Date']\n",
    "    data = [title, price, today]  \n",
    "\n",
    "    with open('AmazonWebScraperDataset.csv', 'a+', newline='', encoding='UTF8') as f:\n",
    "       writer = csv.writer(f)\n",
    "       writer.writerow(data)\n",
    "       \n",
    "    if (int(price.replace(',', '')) < 70000):\n",
    "        send_mail()\n",
    "        def send_mail():\n",
    "            server = smtplib.SMTP_SSL('smtp.gmail.com',465)\n",
    "            server. ehlo()\n",
    "\n",
    "            server.ehlo()\n",
    "            server.login('vipinjotbusiness2@gmail.com','XXXX')\n",
    "            subject = \"The Shirt you want is below $15! Now is your chance to buy!\"\n",
    "            body = \"Hey, This is the moment we have been waiting for. Now is your chance to pick up the Phone. Here's the link : https://www.amazon.in/Apple-iPhone-15-128-GB/dp/B0CHX1W1XY/ref=sr_1_5?crid=2AB8W766PI408&dib=eyJ2IjoiMSJ9.q9e87DdQIp4NHQiQW7o8L5lNAJD6_AKaPZDHk_mfARmTiwIcm2o-FiCu8y2NH4WAN459QCo5pWou1efP5xQgaULEeR_KDfDN8HCEcgAU4iIH-a7EDrPtGdfshvoUSo1GYxEYEPP79snUQ6boI5P25gteHBwMN0bLVe-tRlC8IuNi1VCcajaVYNxhbyktkhNVM53C1xK14nVDeM0O_LvNnC2FPM1PHIK3GXeyZfePtT8.VyDxe69DvyjxkIZXSTntnRNVadU82Trup3NlMyWIEPI&dib_tag=se&keywords=apple&qid=1716710897&sprefix=ap%2Caps%2C268&sr=8-5&th=1\"\n",
    "\n",
    "            msg = f\"Subject: {subject}\\n\\n{body}\"\n",
    "            server.sendmail('vipinjotbusiness2@gmail.com',msg)\n",
    "    else:\n",
    "        print(\"Price is not below\")"
   ]
  },
  {
   "cell_type": "code",
   "execution_count": null,
   "metadata": {},
   "outputs": [
    {
     "name": "stdout",
     "output_type": "stream",
     "text": [
      "                              Title   \n",
      "0  Apple iPhone 15 (128 GB) - Black  \\\n",
      "1  Apple iPhone 15 (128 GB) - Black   \n",
      "2  Apple iPhone 15 (128 GB) - Black   \n",
      "3  Apple iPhone 15 (128 GB) - Black   \n",
      "4  Apple iPhone 15 (128 GB) - Black   \n",
      "5  Apple iPhone 15 (128 GB) - Black   \n",
      "\n",
      "                                               Price        Date  \n",
      "0  71,499\\n                                 \\n   ...  2024-05-29  \n",
      "1  71,499\\n                                 \\n   ...  2024-05-29  \n",
      "2  71,499\\n                                 \\n   ...  2024-05-29  \n",
      "3  71,499\\n                                 \\n   ...  2024-05-29  \n",
      "4  71,499\\n                                 \\n   ...  2024-05-29  \n",
      "5  71,499\\n                                 \\n   ...  2024-05-29  \n"
     ]
    }
   ],
   "source": [
    "import pandas as pd \n",
    "df = pd.read_csv(r'C:\\Users\\Vipinjot Singh\\Desktop\\pandas\\AmazonWebScraperDataset.csv') \n",
    "print(df)"
   ]
  }
 ],
 "metadata": {
  "kernelspec": {
   "display_name": "Python 3",
   "language": "python",
   "name": "python3"
  },
  "language_info": {
   "codemirror_mode": {
    "name": "ipython",
    "version": 3
   },
   "file_extension": ".py",
   "mimetype": "text/x-python",
   "name": "python",
   "nbconvert_exporter": "python",
   "pygments_lexer": "ipython3",
   "version": "3.11.3"
  }
 },
 "nbformat": 4,
 "nbformat_minor": 2
}
