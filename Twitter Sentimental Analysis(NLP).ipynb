{
 "cells": [
  {
   "cell_type": "code",
   "execution_count": 1,
   "metadata": {},
   "outputs": [],
   "source": [
    "import pandas as pd"
   ]
  },
  {
   "cell_type": "code",
   "execution_count": 2,
   "metadata": {},
   "outputs": [
    {
     "name": "stdout",
     "output_type": "stream",
     "text": [
      "Requirement already satisfied: kaggle in c:\\users\\vipinjot singh\\appdata\\local\\programs\\python\\python311\\lib\\site-packages (1.6.17)\n",
      "Requirement already satisfied: six>=1.10 in c:\\users\\vipinjot singh\\appdata\\local\\programs\\python\\python311\\lib\\site-packages (from kaggle) (1.16.0)\n",
      "Requirement already satisfied: certifi>=2023.7.22 in c:\\users\\vipinjot singh\\appdata\\local\\programs\\python\\python311\\lib\\site-packages (from kaggle) (2024.7.4)\n",
      "Requirement already satisfied: python-dateutil in c:\\users\\vipinjot singh\\appdata\\local\\programs\\python\\python311\\lib\\site-packages (from kaggle) (2.8.2)\n",
      "Requirement already satisfied: requests in c:\\users\\vipinjot singh\\appdata\\local\\programs\\python\\python311\\lib\\site-packages (from kaggle) (2.31.0)\n",
      "Requirement already satisfied: tqdm in c:\\users\\vipinjot singh\\appdata\\local\\programs\\python\\python311\\lib\\site-packages (from kaggle) (4.66.4)\n",
      "Requirement already satisfied: python-slugify in c:\\users\\vipinjot singh\\appdata\\local\\programs\\python\\python311\\lib\\site-packages (from kaggle) (8.0.4)\n",
      "Requirement already satisfied: urllib3 in c:\\users\\vipinjot singh\\appdata\\local\\programs\\python\\python311\\lib\\site-packages (from kaggle) (2.0.3)\n",
      "Requirement already satisfied: bleach in c:\\users\\vipinjot singh\\appdata\\local\\programs\\python\\python311\\lib\\site-packages (from kaggle) (6.0.0)\n",
      "Requirement already satisfied: webencodings in c:\\users\\vipinjot singh\\appdata\\local\\programs\\python\\python311\\lib\\site-packages (from bleach->kaggle) (0.5.1)\n",
      "Requirement already satisfied: text-unidecode>=1.3 in c:\\users\\vipinjot singh\\appdata\\local\\programs\\python\\python311\\lib\\site-packages (from python-slugify->kaggle) (1.3)\n",
      "Requirement already satisfied: charset-normalizer<4,>=2 in c:\\users\\vipinjot singh\\appdata\\local\\programs\\python\\python311\\lib\\site-packages (from requests->kaggle) (3.2.0)\n",
      "Requirement already satisfied: idna<4,>=2.5 in c:\\users\\vipinjot singh\\appdata\\local\\programs\\python\\python311\\lib\\site-packages (from requests->kaggle) (3.4)\n",
      "Requirement already satisfied: colorama in c:\\users\\vipinjot singh\\appdata\\local\\programs\\python\\python311\\lib\\site-packages (from tqdm->kaggle) (0.4.6)\n",
      "Note: you may need to restart the kernel to use updated packages.\n"
     ]
    },
    {
     "name": "stderr",
     "output_type": "stream",
     "text": [
      "\n",
      "[notice] A new release of pip is available: 24.1.2 -> 24.2\n",
      "[notice] To update, run: python.exe -m pip install --upgrade pip\n"
     ]
    }
   ],
   "source": [
    "pip install kaggle"
   ]
  },
  {
   "cell_type": "code",
   "execution_count": 3,
   "metadata": {},
   "outputs": [
    {
     "name": "stdout",
     "output_type": "stream",
     "text": [
      "Dataset URL: https://www.kaggle.com/datasets/kazanova/sentiment140"
     ]
    },
    {
     "name": "stderr",
     "output_type": "stream",
     "text": [
      "\n",
      "  0%|          | 0.00/80.9M [00:00<?, ?B/s]\n",
      "  1%|          | 1.00M/80.9M [00:01<01:56, 721kB/s]\n",
      "  2%|▏         | 2.00M/80.9M [00:01<01:10, 1.17MB/s]\n",
      "  4%|▎         | 3.00M/80.9M [00:02<00:52, 1.55MB/s]\n",
      "  5%|▍         | 4.00M/80.9M [00:02<00:44, 1.81MB/s]\n",
      "  6%|▌         | 5.00M/80.9M [00:03<00:43, 1.84MB/s]\n",
      "  7%|▋         | 6.00M/80.9M [00:03<00:37, 2.11MB/s]\n",
      "  9%|▊         | 7.00M/80.9M [00:04<00:32, 2.37MB/s]\n",
      " 10%|▉         | 8.00M/80.9M [00:04<00:29, 2.57MB/s]\n",
      " 11%|█         | 9.00M/80.9M [00:04<00:33, 2.24MB/s]\n",
      " 12%|█▏        | 10.0M/80.9M [00:05<00:35, 2.12MB/s]\n",
      " 14%|█▎        | 11.0M/80.9M [00:05<00:33, 2.21MB/s]\n",
      " 15%|█▍        | 12.0M/80.9M [00:06<00:33, 2.13MB/s]\n",
      " 16%|█▌        | 13.0M/80.9M [00:06<00:30, 2.36MB/s]\n",
      " 17%|█▋        | 14.0M/80.9M [00:07<00:30, 2.32MB/s]\n",
      " 19%|█▊        | 15.0M/80.9M [00:08<00:36, 1.89MB/s]\n",
      " 20%|█▉        | 16.0M/80.9M [00:08<00:35, 1.94MB/s]\n",
      " 21%|██        | 17.0M/80.9M [00:09<00:36, 1.82MB/s]\n",
      " 22%|██▏       | 18.0M/80.9M [00:10<00:40, 1.65MB/s]\n",
      " 23%|██▎       | 19.0M/80.9M [00:10<00:37, 1.74MB/s]\n",
      " 25%|██▍       | 20.0M/80.9M [00:10<00:33, 1.91MB/s]\n",
      " 26%|██▌       | 21.0M/80.9M [00:11<00:29, 2.11MB/s]\n",
      " 27%|██▋       | 22.0M/80.9M [00:11<00:28, 2.13MB/s]\n",
      " 28%|██▊       | 23.0M/80.9M [00:12<00:25, 2.40MB/s]\n",
      " 30%|██▉       | 24.0M/80.9M [00:12<00:24, 2.41MB/s]\n",
      " 31%|███       | 25.0M/80.9M [00:12<00:23, 2.49MB/s]\n",
      " 32%|███▏      | 26.0M/80.9M [00:13<00:28, 2.01MB/s]\n",
      " 33%|███▎      | 27.0M/80.9M [00:13<00:24, 2.34MB/s]\n",
      " 35%|███▍      | 28.0M/80.9M [00:14<00:21, 2.54MB/s]\n",
      " 36%|███▌      | 29.0M/80.9M [00:14<00:20, 2.65MB/s]\n",
      " 37%|███▋      | 30.0M/80.9M [00:15<00:21, 2.54MB/s]\n",
      " 38%|███▊      | 31.0M/80.9M [00:15<00:22, 2.28MB/s]\n",
      " 40%|███▉      | 32.0M/80.9M [00:16<00:21, 2.42MB/s]\n",
      " 41%|████      | 33.0M/80.9M [00:16<00:19, 2.62MB/s]\n",
      " 42%|████▏     | 34.0M/80.9M [00:16<00:17, 2.81MB/s]\n",
      " 43%|████▎     | 35.0M/80.9M [00:17<00:18, 2.55MB/s]\n",
      " 44%|████▍     | 36.0M/80.9M [00:17<00:20, 2.32MB/s]\n",
      " 46%|████▌     | 37.0M/80.9M [00:18<00:18, 2.47MB/s]\n",
      " 47%|████▋     | 38.0M/80.9M [00:18<00:18, 2.38MB/s]\n",
      " 48%|████▊     | 39.0M/80.9M [00:19<00:18, 2.40MB/s]\n",
      " 49%|████▉     | 40.0M/80.9M [00:19<00:17, 2.51MB/s]\n",
      " 51%|█████     | 41.0M/80.9M [00:19<00:15, 2.64MB/s]\n",
      " 52%|█████▏    | 42.0M/80.9M [00:20<00:15, 2.64MB/s]\n",
      " 53%|█████▎    | 43.0M/80.9M [00:20<00:15, 2.53MB/s]\n",
      " 54%|█████▍    | 44.0M/80.9M [00:21<00:15, 2.47MB/s]\n",
      " 56%|█████▌    | 45.0M/80.9M [00:21<00:16, 2.34MB/s]\n",
      " 57%|█████▋    | 46.0M/80.9M [00:22<00:16, 2.24MB/s]\n",
      " 58%|█████▊    | 47.0M/80.9M [00:22<00:15, 2.25MB/s]\n",
      " 59%|█████▉    | 48.0M/80.9M [00:23<00:15, 2.22MB/s]\n",
      " 61%|██████    | 49.0M/80.9M [00:23<00:15, 2.18MB/s]\n",
      " 62%|██████▏   | 50.0M/80.9M [00:23<00:14, 2.32MB/s]\n",
      " 63%|██████▎   | 51.0M/80.9M [00:24<00:12, 2.48MB/s]\n",
      " 64%|██████▍   | 52.0M/80.9M [00:24<00:11, 2.58MB/s]\n",
      " 65%|██████▌   | 53.0M/80.9M [00:24<00:10, 2.70MB/s]\n",
      " 67%|██████▋   | 54.0M/80.9M [00:25<00:10, 2.61MB/s]\n",
      " 68%|██████▊   | 55.0M/80.9M [00:25<00:09, 2.76MB/s]\n",
      " 69%|██████▉   | 56.0M/80.9M [00:26<00:10, 2.58MB/s]\n",
      " 70%|███████   | 57.0M/80.9M [00:26<00:09, 2.71MB/s]\n",
      " 72%|███████▏  | 58.0M/80.9M [00:26<00:08, 2.82MB/s]\n",
      " 73%|███████▎  | 59.0M/80.9M [00:27<00:07, 3.16MB/s]\n",
      " 74%|███████▍  | 60.0M/80.9M [00:27<00:07, 2.97MB/s]\n",
      " 75%|███████▌  | 61.0M/80.9M [00:27<00:06, 3.07MB/s]\n",
      " 77%|███████▋  | 62.0M/80.9M [00:28<00:06, 3.10MB/s]\n",
      " 78%|███████▊  | 63.0M/80.9M [00:28<00:06, 3.09MB/s]\n",
      " 79%|███████▉  | 64.0M/80.9M [00:28<00:05, 3.18MB/s]\n",
      " 80%|████████  | 65.0M/80.9M [00:29<00:05, 3.09MB/s]\n",
      " 82%|████████▏ | 66.0M/80.9M [00:29<00:04, 3.15MB/s]\n",
      " 83%|████████▎ | 67.0M/80.9M [00:29<00:04, 3.31MB/s]\n",
      " 84%|████████▍ | 68.0M/80.9M [00:30<00:04, 3.21MB/s]\n",
      " 85%|████████▌ | 69.0M/80.9M [00:30<00:03, 3.22MB/s]\n",
      " 87%|████████▋ | 70.0M/80.9M [00:30<00:03, 3.21MB/s]\n",
      " 88%|████████▊ | 71.0M/80.9M [00:31<00:03, 3.20MB/s]\n",
      " 89%|████████▉ | 72.0M/80.9M [00:31<00:02, 3.17MB/s]\n",
      " 90%|█████████ | 73.0M/80.9M [00:31<00:02, 2.96MB/s]\n",
      " 91%|█████████▏| 74.0M/80.9M [00:32<00:02, 2.99MB/s]\n",
      " 93%|█████████▎| 75.0M/80.9M [00:32<00:01, 3.11MB/s]\n",
      " 94%|█████████▍| 76.0M/80.9M [00:32<00:01, 3.24MB/s]\n",
      " 95%|█████████▌| 77.0M/80.9M [00:33<00:01, 3.56MB/s]\n",
      " 96%|█████████▋| 78.0M/80.9M [00:33<00:00, 3.42MB/s]\n",
      " 98%|█████████▊| 79.0M/80.9M [00:33<00:00, 3.30MB/s]\n",
      " 99%|█████████▉| 80.0M/80.9M [00:34<00:00, 3.01MB/s]\n",
      "100%|██████████| 80.9M/80.9M [00:34<00:00, 3.26MB/s]\n",
      "100%|██████████| 80.9M/80.9M [00:34<00:00, 2.47MB/s]\n"
     ]
    },
    {
     "name": "stdout",
     "output_type": "stream",
     "text": [
      "\n",
      "License(s): other\n",
      "Downloading sentiment140.zip to c:\\Users\\Vipinjot Singh\\Desktop\\pandas\n",
      "\n"
     ]
    }
   ],
   "source": [
    "#IMORTING TWITTER DATASET. #API\n",
    "! kaggle datasets download -d kazanova/sentiment140"
   ]
  },
  {
   "cell_type": "code",
   "execution_count": 1,
   "metadata": {},
   "outputs": [
    {
     "name": "stdout",
     "output_type": "stream",
     "text": [
      "the dataset is extracted\n"
     ]
    }
   ],
   "source": [
    "#extracting the zip file \n",
    "from zipfile import ZipFile\n",
    "dataset = 'C:/Users/Vipinjot Singh/Desktop/pandas/twitter.zip'\n",
    "\n",
    "with ZipFile (dataset, 'r') as zip:\n",
    "    zip.extractall()\n",
    "    print('the dataset is extracted')"
   ]
  },
  {
   "cell_type": "code",
   "execution_count": 2,
   "metadata": {},
   "outputs": [],
   "source": [
    "import numpy as np\n",
    "import pandas as pd\n",
    "import re\n",
    "import nltk\n",
    "from nltk.corpus import stopwords\n",
    "from nltk.stem.porter import PorterStemmer\n",
    "from sklearn.feature_extraction.text import TfidfVectorizer \n",
    "from sklearn.model_selection import train_test_split\n",
    "from sklearn.linear_model import LogisticRegression\n",
    "from sklearn.metrics import accuracy_score"
   ]
  },
  {
   "cell_type": "code",
   "execution_count": 4,
   "metadata": {},
   "outputs": [
    {
     "name": "stderr",
     "output_type": "stream",
     "text": [
      "[nltk_data] Downloading package stopwords to C:\\Users\\Vipinjot\n",
      "[nltk_data]     Singh\\AppData\\Roaming\\nltk_data...\n",
      "[nltk_data]   Package stopwords is already up-to-date!\n"
     ]
    },
    {
     "data": {
      "text/plain": [
       "True"
      ]
     },
     "execution_count": 4,
     "metadata": {},
     "output_type": "execute_result"
    }
   ],
   "source": [
    "import nltk\n",
    "nltk.download('stopwords')\n"
   ]
  },
  {
   "cell_type": "code",
   "execution_count": 5,
   "metadata": {},
   "outputs": [
    {
     "name": "stdout",
     "output_type": "stream",
     "text": [
      "['i', 'me', 'my', 'myself', 'we', 'our', 'ours', 'ourselves', 'you', \"you're\", \"you've\", \"you'll\", \"you'd\", 'your', 'yours', 'yourself', 'yourselves', 'he', 'him', 'his', 'himself', 'she', \"she's\", 'her', 'hers', 'herself', 'it', \"it's\", 'its', 'itself', 'they', 'them', 'their', 'theirs', 'themselves', 'what', 'which', 'who', 'whom', 'this', 'that', \"that'll\", 'these', 'those', 'am', 'is', 'are', 'was', 'were', 'be', 'been', 'being', 'have', 'has', 'had', 'having', 'do', 'does', 'did', 'doing', 'a', 'an', 'the', 'and', 'but', 'if', 'or', 'because', 'as', 'until', 'while', 'of', 'at', 'by', 'for', 'with', 'about', 'against', 'between', 'into', 'through', 'during', 'before', 'after', 'above', 'below', 'to', 'from', 'up', 'down', 'in', 'out', 'on', 'off', 'over', 'under', 'again', 'further', 'then', 'once', 'here', 'there', 'when', 'where', 'why', 'how', 'all', 'any', 'both', 'each', 'few', 'more', 'most', 'other', 'some', 'such', 'no', 'nor', 'not', 'only', 'own', 'same', 'so', 'than', 'too', 'very', 's', 't', 'can', 'will', 'just', 'don', \"don't\", 'should', \"should've\", 'now', 'd', 'll', 'm', 'o', 're', 've', 'y', 'ain', 'aren', \"aren't\", 'couldn', \"couldn't\", 'didn', \"didn't\", 'doesn', \"doesn't\", 'hadn', \"hadn't\", 'hasn', \"hasn't\", 'haven', \"haven't\", 'isn', \"isn't\", 'ma', 'mightn', \"mightn't\", 'mustn', \"mustn't\", 'needn', \"needn't\", 'shan', \"shan't\", 'shouldn', \"shouldn't\", 'wasn', \"wasn't\", 'weren', \"weren't\", 'won', \"won't\", 'wouldn', \"wouldn't\"]\n"
     ]
    }
   ],
   "source": [
    "#PRINTING THE STOPWORDS IN ENGLISH\n",
    "print(stopwords.words('English'))"
   ]
  },
  {
   "cell_type": "code",
   "execution_count": 6,
   "metadata": {},
   "outputs": [],
   "source": [
    "#DATA PROCESSING \n",
    "#LOADING THE DATA FROM CSV\n",
    "twitter_data = pd.read_csv('C:/Users/Vipinjot Singh/Desktop/pandas/training.1600000.processed.noemoticon.csv', encoding = ' ISO-8859-1')"
   ]
  },
  {
   "cell_type": "code",
   "execution_count": 7,
   "metadata": {},
   "outputs": [
    {
     "data": {
      "text/plain": [
       "(1599999, 6)"
      ]
     },
     "execution_count": 7,
     "metadata": {},
     "output_type": "execute_result"
    }
   ],
   "source": [
    "twitter_data.shape"
   ]
  },
  {
   "cell_type": "code",
   "execution_count": 8,
   "metadata": {},
   "outputs": [
    {
     "data": {
      "text/html": [
       "<div>\n",
       "<style scoped>\n",
       "    .dataframe tbody tr th:only-of-type {\n",
       "        vertical-align: middle;\n",
       "    }\n",
       "\n",
       "    .dataframe tbody tr th {\n",
       "        vertical-align: top;\n",
       "    }\n",
       "\n",
       "    .dataframe thead th {\n",
       "        text-align: right;\n",
       "    }\n",
       "</style>\n",
       "<table border=\"1\" class=\"dataframe\">\n",
       "  <thead>\n",
       "    <tr style=\"text-align: right;\">\n",
       "      <th></th>\n",
       "      <th>0</th>\n",
       "      <th>1467810369</th>\n",
       "      <th>Mon Apr 06 22:19:45 PDT 2009</th>\n",
       "      <th>NO_QUERY</th>\n",
       "      <th>_TheSpecialOne_</th>\n",
       "      <th>@switchfoot http://twitpic.com/2y1zl - Awww, that's a bummer.  You shoulda got David Carr of Third Day to do it. ;D</th>\n",
       "    </tr>\n",
       "  </thead>\n",
       "  <tbody>\n",
       "    <tr>\n",
       "      <th>0</th>\n",
       "      <td>0</td>\n",
       "      <td>1467810672</td>\n",
       "      <td>Mon Apr 06 22:19:49 PDT 2009</td>\n",
       "      <td>NO_QUERY</td>\n",
       "      <td>scotthamilton</td>\n",
       "      <td>is upset that he can't update his Facebook by ...</td>\n",
       "    </tr>\n",
       "    <tr>\n",
       "      <th>1</th>\n",
       "      <td>0</td>\n",
       "      <td>1467810917</td>\n",
       "      <td>Mon Apr 06 22:19:53 PDT 2009</td>\n",
       "      <td>NO_QUERY</td>\n",
       "      <td>mattycus</td>\n",
       "      <td>@Kenichan I dived many times for the ball. Man...</td>\n",
       "    </tr>\n",
       "    <tr>\n",
       "      <th>2</th>\n",
       "      <td>0</td>\n",
       "      <td>1467811184</td>\n",
       "      <td>Mon Apr 06 22:19:57 PDT 2009</td>\n",
       "      <td>NO_QUERY</td>\n",
       "      <td>ElleCTF</td>\n",
       "      <td>my whole body feels itchy and like its on fire</td>\n",
       "    </tr>\n",
       "    <tr>\n",
       "      <th>3</th>\n",
       "      <td>0</td>\n",
       "      <td>1467811193</td>\n",
       "      <td>Mon Apr 06 22:19:57 PDT 2009</td>\n",
       "      <td>NO_QUERY</td>\n",
       "      <td>Karoli</td>\n",
       "      <td>@nationwideclass no, it's not behaving at all....</td>\n",
       "    </tr>\n",
       "    <tr>\n",
       "      <th>4</th>\n",
       "      <td>0</td>\n",
       "      <td>1467811372</td>\n",
       "      <td>Mon Apr 06 22:20:00 PDT 2009</td>\n",
       "      <td>NO_QUERY</td>\n",
       "      <td>joy_wolf</td>\n",
       "      <td>@Kwesidei not the whole crew</td>\n",
       "    </tr>\n",
       "  </tbody>\n",
       "</table>\n",
       "</div>"
      ],
      "text/plain": [
       "   0  1467810369  Mon Apr 06 22:19:45 PDT 2009  NO_QUERY _TheSpecialOne_   \n",
       "0  0  1467810672  Mon Apr 06 22:19:49 PDT 2009  NO_QUERY   scotthamilton  \\\n",
       "1  0  1467810917  Mon Apr 06 22:19:53 PDT 2009  NO_QUERY        mattycus   \n",
       "2  0  1467811184  Mon Apr 06 22:19:57 PDT 2009  NO_QUERY         ElleCTF   \n",
       "3  0  1467811193  Mon Apr 06 22:19:57 PDT 2009  NO_QUERY          Karoli   \n",
       "4  0  1467811372  Mon Apr 06 22:20:00 PDT 2009  NO_QUERY        joy_wolf   \n",
       "\n",
       "  @switchfoot http://twitpic.com/2y1zl - Awww, that's a bummer.  You shoulda got David Carr of Third Day to do it. ;D  \n",
       "0  is upset that he can't update his Facebook by ...                                                                   \n",
       "1  @Kenichan I dived many times for the ball. Man...                                                                   \n",
       "2    my whole body feels itchy and like its on fire                                                                    \n",
       "3  @nationwideclass no, it's not behaving at all....                                                                   \n",
       "4                      @Kwesidei not the whole crew                                                                    "
      ]
     },
     "execution_count": 8,
     "metadata": {},
     "output_type": "execute_result"
    }
   ],
   "source": [
    "#PRINTING THE FIRST 5 ROWS OF THE FRAME\n",
    "twitter_data.head()"
   ]
  },
  {
   "cell_type": "code",
   "execution_count": 9,
   "metadata": {},
   "outputs": [],
   "source": [
    "#NAMING THE COLUMNS AND READING THE DATASET AGAIN\n",
    "\n",
    "column_names = ['target', 'id', 'date', 'flag', 'user', 'text']\n",
    "twitter_data = pd.read_csv('C:/Users/Vipinjot Singh/Desktop/pandas/training.1600000.processed.noemoticon.csv', names=column_names, encoding = ' ISO-8859-1')\n"
   ]
  },
  {
   "cell_type": "code",
   "execution_count": 10,
   "metadata": {},
   "outputs": [
    {
     "data": {
      "text/html": [
       "<div>\n",
       "<style scoped>\n",
       "    .dataframe tbody tr th:only-of-type {\n",
       "        vertical-align: middle;\n",
       "    }\n",
       "\n",
       "    .dataframe tbody tr th {\n",
       "        vertical-align: top;\n",
       "    }\n",
       "\n",
       "    .dataframe thead th {\n",
       "        text-align: right;\n",
       "    }\n",
       "</style>\n",
       "<table border=\"1\" class=\"dataframe\">\n",
       "  <thead>\n",
       "    <tr style=\"text-align: right;\">\n",
       "      <th></th>\n",
       "      <th>target</th>\n",
       "      <th>id</th>\n",
       "      <th>date</th>\n",
       "      <th>flag</th>\n",
       "      <th>user</th>\n",
       "      <th>text</th>\n",
       "    </tr>\n",
       "  </thead>\n",
       "  <tbody>\n",
       "    <tr>\n",
       "      <th>0</th>\n",
       "      <td>0</td>\n",
       "      <td>1467810369</td>\n",
       "      <td>Mon Apr 06 22:19:45 PDT 2009</td>\n",
       "      <td>NO_QUERY</td>\n",
       "      <td>_TheSpecialOne_</td>\n",
       "      <td>@switchfoot http://twitpic.com/2y1zl - Awww, t...</td>\n",
       "    </tr>\n",
       "    <tr>\n",
       "      <th>1</th>\n",
       "      <td>0</td>\n",
       "      <td>1467810672</td>\n",
       "      <td>Mon Apr 06 22:19:49 PDT 2009</td>\n",
       "      <td>NO_QUERY</td>\n",
       "      <td>scotthamilton</td>\n",
       "      <td>is upset that he can't update his Facebook by ...</td>\n",
       "    </tr>\n",
       "    <tr>\n",
       "      <th>2</th>\n",
       "      <td>0</td>\n",
       "      <td>1467810917</td>\n",
       "      <td>Mon Apr 06 22:19:53 PDT 2009</td>\n",
       "      <td>NO_QUERY</td>\n",
       "      <td>mattycus</td>\n",
       "      <td>@Kenichan I dived many times for the ball. Man...</td>\n",
       "    </tr>\n",
       "    <tr>\n",
       "      <th>3</th>\n",
       "      <td>0</td>\n",
       "      <td>1467811184</td>\n",
       "      <td>Mon Apr 06 22:19:57 PDT 2009</td>\n",
       "      <td>NO_QUERY</td>\n",
       "      <td>ElleCTF</td>\n",
       "      <td>my whole body feels itchy and like its on fire</td>\n",
       "    </tr>\n",
       "    <tr>\n",
       "      <th>4</th>\n",
       "      <td>0</td>\n",
       "      <td>1467811193</td>\n",
       "      <td>Mon Apr 06 22:19:57 PDT 2009</td>\n",
       "      <td>NO_QUERY</td>\n",
       "      <td>Karoli</td>\n",
       "      <td>@nationwideclass no, it's not behaving at all....</td>\n",
       "    </tr>\n",
       "  </tbody>\n",
       "</table>\n",
       "</div>"
      ],
      "text/plain": [
       "   target          id                          date      flag   \n",
       "0       0  1467810369  Mon Apr 06 22:19:45 PDT 2009  NO_QUERY  \\\n",
       "1       0  1467810672  Mon Apr 06 22:19:49 PDT 2009  NO_QUERY   \n",
       "2       0  1467810917  Mon Apr 06 22:19:53 PDT 2009  NO_QUERY   \n",
       "3       0  1467811184  Mon Apr 06 22:19:57 PDT 2009  NO_QUERY   \n",
       "4       0  1467811193  Mon Apr 06 22:19:57 PDT 2009  NO_QUERY   \n",
       "\n",
       "              user                                               text  \n",
       "0  _TheSpecialOne_  @switchfoot http://twitpic.com/2y1zl - Awww, t...  \n",
       "1    scotthamilton  is upset that he can't update his Facebook by ...  \n",
       "2         mattycus  @Kenichan I dived many times for the ball. Man...  \n",
       "3          ElleCTF    my whole body feels itchy and like its on fire   \n",
       "4           Karoli  @nationwideclass no, it's not behaving at all....  "
      ]
     },
     "execution_count": 10,
     "metadata": {},
     "output_type": "execute_result"
    }
   ],
   "source": [
    "twitter_data.head()\n"
   ]
  },
  {
   "cell_type": "code",
   "execution_count": 11,
   "metadata": {},
   "outputs": [
    {
     "data": {
      "text/plain": [
       "target    0\n",
       "id        0\n",
       "date      0\n",
       "flag      0\n",
       "user      0\n",
       "text      0\n",
       "dtype: int64"
      ]
     },
     "execution_count": 11,
     "metadata": {},
     "output_type": "execute_result"
    }
   ],
   "source": [
    "#COUNTING THE NUMBER OF MISSING VALUES IN THE DATASET\n",
    "twitter_data.isnull().sum()"
   ]
  },
  {
   "cell_type": "code",
   "execution_count": 12,
   "metadata": {},
   "outputs": [
    {
     "data": {
      "text/plain": [
       "target\n",
       "0    800000\n",
       "4    800000\n",
       "Name: count, dtype: int64"
      ]
     },
     "execution_count": 12,
     "metadata": {},
     "output_type": "execute_result"
    }
   ],
   "source": [
    "#CHECKING THE DISTRIBUTION OF TARGET COLUMN\n",
    "twitter_data['target'].value_counts()"
   ]
  },
  {
   "cell_type": "code",
   "execution_count": 13,
   "metadata": {},
   "outputs": [],
   "source": [
    "#CONVERTING THE TARGET 4 TO 1\n",
    "twitter_data.replace({'target':{4:1}}, inplace = True)"
   ]
  },
  {
   "cell_type": "code",
   "execution_count": 14,
   "metadata": {},
   "outputs": [
    {
     "data": {
      "text/plain": [
       "target\n",
       "0    800000\n",
       "1    800000\n",
       "Name: count, dtype: int64"
      ]
     },
     "execution_count": 14,
     "metadata": {},
     "output_type": "execute_result"
    }
   ],
   "source": [
    "twitter_data['target'].value_counts()"
   ]
  },
  {
   "cell_type": "code",
   "execution_count": 15,
   "metadata": {},
   "outputs": [],
   "source": [
    "#0 -NEGATIVE TWEET\n",
    "#1 - POSITIVE TWEET\n",
    "#STEMMING IS THE PROCESS OF REDUCING A WORD TO ITS ROOT WORD EG. - ACTOR, ACTING , ACTRESS \n",
    "\n",
    "Port_stem = PorterStemmer()"
   ]
  },
  {
   "cell_type": "code",
   "execution_count": 16,
   "metadata": {},
   "outputs": [],
   "source": [
    "def stemming (content):\n",
    "# removing the special characters:\n",
    "    stemmed_content = re.sub('[^a-zA-Z]','',content)\n",
    "    stemmed_content = stemmed_content.lower()\n",
    "    stemmed_content = stemmed_content.split()\n",
    "    stemmed_content = [Port_stem.stem(word) for word in stemmed_content]\n",
    "    stemmed_content = ''.join(stemmed_content)\n",
    "    return stemmed_content"
   ]
  },
  {
   "cell_type": "code",
   "execution_count": 17,
   "metadata": {},
   "outputs": [],
   "source": [
    "twitter_data['stemmed_content'] = twitter_data['text'].apply(stemming)"
   ]
  },
  {
   "cell_type": "code",
   "execution_count": 18,
   "metadata": {},
   "outputs": [
    {
     "data": {
      "text/html": [
       "<div>\n",
       "<style scoped>\n",
       "    .dataframe tbody tr th:only-of-type {\n",
       "        vertical-align: middle;\n",
       "    }\n",
       "\n",
       "    .dataframe tbody tr th {\n",
       "        vertical-align: top;\n",
       "    }\n",
       "\n",
       "    .dataframe thead th {\n",
       "        text-align: right;\n",
       "    }\n",
       "</style>\n",
       "<table border=\"1\" class=\"dataframe\">\n",
       "  <thead>\n",
       "    <tr style=\"text-align: right;\">\n",
       "      <th></th>\n",
       "      <th>target</th>\n",
       "      <th>id</th>\n",
       "      <th>date</th>\n",
       "      <th>flag</th>\n",
       "      <th>user</th>\n",
       "      <th>text</th>\n",
       "      <th>stemmed_content</th>\n",
       "    </tr>\n",
       "  </thead>\n",
       "  <tbody>\n",
       "    <tr>\n",
       "      <th>0</th>\n",
       "      <td>0</td>\n",
       "      <td>1467810369</td>\n",
       "      <td>Mon Apr 06 22:19:45 PDT 2009</td>\n",
       "      <td>NO_QUERY</td>\n",
       "      <td>_TheSpecialOne_</td>\n",
       "      <td>@switchfoot http://twitpic.com/2y1zl - Awww, t...</td>\n",
       "      <td>switchfoothttptwitpiccomyzlawwwthatsabummeryou...</td>\n",
       "    </tr>\n",
       "    <tr>\n",
       "      <th>1</th>\n",
       "      <td>0</td>\n",
       "      <td>1467810672</td>\n",
       "      <td>Mon Apr 06 22:19:49 PDT 2009</td>\n",
       "      <td>NO_QUERY</td>\n",
       "      <td>scotthamilton</td>\n",
       "      <td>is upset that he can't update his Facebook by ...</td>\n",
       "      <td>isupsetthathecantupdatehisfacebookbytextingita...</td>\n",
       "    </tr>\n",
       "    <tr>\n",
       "      <th>2</th>\n",
       "      <td>0</td>\n",
       "      <td>1467810917</td>\n",
       "      <td>Mon Apr 06 22:19:53 PDT 2009</td>\n",
       "      <td>NO_QUERY</td>\n",
       "      <td>mattycus</td>\n",
       "      <td>@Kenichan I dived many times for the ball. Man...</td>\n",
       "      <td>kenichanidivedmanytimesfortheballmanagedtosave...</td>\n",
       "    </tr>\n",
       "    <tr>\n",
       "      <th>3</th>\n",
       "      <td>0</td>\n",
       "      <td>1467811184</td>\n",
       "      <td>Mon Apr 06 22:19:57 PDT 2009</td>\n",
       "      <td>NO_QUERY</td>\n",
       "      <td>ElleCTF</td>\n",
       "      <td>my whole body feels itchy and like its on fire</td>\n",
       "      <td>mywholebodyfeelsitchyandlikeitsonfir</td>\n",
       "    </tr>\n",
       "    <tr>\n",
       "      <th>4</th>\n",
       "      <td>0</td>\n",
       "      <td>1467811193</td>\n",
       "      <td>Mon Apr 06 22:19:57 PDT 2009</td>\n",
       "      <td>NO_QUERY</td>\n",
       "      <td>Karoli</td>\n",
       "      <td>@nationwideclass no, it's not behaving at all....</td>\n",
       "      <td>nationwideclassnoitsnotbehavingatallimmadwhyam...</td>\n",
       "    </tr>\n",
       "  </tbody>\n",
       "</table>\n",
       "</div>"
      ],
      "text/plain": [
       "   target          id                          date      flag   \n",
       "0       0  1467810369  Mon Apr 06 22:19:45 PDT 2009  NO_QUERY  \\\n",
       "1       0  1467810672  Mon Apr 06 22:19:49 PDT 2009  NO_QUERY   \n",
       "2       0  1467810917  Mon Apr 06 22:19:53 PDT 2009  NO_QUERY   \n",
       "3       0  1467811184  Mon Apr 06 22:19:57 PDT 2009  NO_QUERY   \n",
       "4       0  1467811193  Mon Apr 06 22:19:57 PDT 2009  NO_QUERY   \n",
       "\n",
       "              user                                               text   \n",
       "0  _TheSpecialOne_  @switchfoot http://twitpic.com/2y1zl - Awww, t...  \\\n",
       "1    scotthamilton  is upset that he can't update his Facebook by ...   \n",
       "2         mattycus  @Kenichan I dived many times for the ball. Man...   \n",
       "3          ElleCTF    my whole body feels itchy and like its on fire    \n",
       "4           Karoli  @nationwideclass no, it's not behaving at all....   \n",
       "\n",
       "                                     stemmed_content  \n",
       "0  switchfoothttptwitpiccomyzlawwwthatsabummeryou...  \n",
       "1  isupsetthathecantupdatehisfacebookbytextingita...  \n",
       "2  kenichanidivedmanytimesfortheballmanagedtosave...  \n",
       "3               mywholebodyfeelsitchyandlikeitsonfir  \n",
       "4  nationwideclassnoitsnotbehavingatallimmadwhyam...  "
      ]
     },
     "execution_count": 18,
     "metadata": {},
     "output_type": "execute_result"
    }
   ],
   "source": [
    "twitter_data.head()"
   ]
  },
  {
   "cell_type": "code",
   "execution_count": 19,
   "metadata": {},
   "outputs": [
    {
     "name": "stdout",
     "output_type": "stream",
     "text": [
      "0          switchfoothttptwitpiccomyzlawwwthatsabummeryou...\n",
      "1          isupsetthathecantupdatehisfacebookbytextingita...\n",
      "2          kenichanidivedmanytimesfortheballmanagedtosave...\n",
      "3                       mywholebodyfeelsitchyandlikeitsonfir\n",
      "4          nationwideclassnoitsnotbehavingatallimmadwhyam...\n",
      "                                 ...                        \n",
      "1599995           justwokeuphavingnoschoolisthebestfeelingev\n",
      "1599996    thewdbcomverycooltohearoldwaltinterviewshttpbl...\n",
      "1599997         areyoureadyforyourmojomakeoveraskmefordetail\n",
      "1599998     happythbirthdaytomybooofallltimetupacamarushakur\n",
      "1599999    happycharitytuesdaythenspccsparkscharityspeaki...\n",
      "Name: stemmed_content, Length: 1600000, dtype: object\n"
     ]
    }
   ],
   "source": [
    "print(twitter_data['stemmed_content'])"
   ]
  },
  {
   "cell_type": "code",
   "execution_count": 21,
   "metadata": {},
   "outputs": [],
   "source": [
    "#separating data and labels\n",
    "x = twitter_data['stemmed_content'].values\n",
    "y = twitter_data['target'].values\n"
   ]
  },
  {
   "cell_type": "code",
   "execution_count": 22,
   "metadata": {},
   "outputs": [
    {
     "name": "stdout",
     "output_type": "stream",
     "text": [
      "['switchfoothttptwitpiccomyzlawwwthatsabummeryoushouldagotdavidcarrofthirddaytodoitd'\n",
      " 'isupsetthathecantupdatehisfacebookbytextingitandmightcryasaresultschooltodayalsoblah'\n",
      " 'kenichanidivedmanytimesfortheballmanagedtosavetherestgooutofbound' ...\n",
      " 'areyoureadyforyourmojomakeoveraskmefordetail'\n",
      " 'happythbirthdaytomybooofallltimetupacamarushakur'\n",
      " 'happycharitytuesdaythenspccsparkscharityspeakinguphh']\n"
     ]
    }
   ],
   "source": [
    "print(x)"
   ]
  },
  {
   "cell_type": "code",
   "execution_count": 23,
   "metadata": {},
   "outputs": [
    {
     "name": "stdout",
     "output_type": "stream",
     "text": [
      "[0 0 0 ... 1 1 1]\n"
     ]
    }
   ],
   "source": [
    "print(y)"
   ]
  },
  {
   "cell_type": "code",
   "execution_count": 24,
   "metadata": {},
   "outputs": [],
   "source": [
    "x_train, x_test, y_train,y_test = train_test_split(x,y, test_size= 0.2, stratify=y,random_state=2)"
   ]
  },
  {
   "cell_type": "code",
   "execution_count": 26,
   "metadata": {},
   "outputs": [
    {
     "name": "stdout",
     "output_type": "stream",
     "text": [
      "(1600000,) (1280000,) (320000,)\n"
     ]
    }
   ],
   "source": [
    "print(x.shape,x_train.shape,x_test.shape)"
   ]
  },
  {
   "cell_type": "code",
   "execution_count": 27,
   "metadata": {},
   "outputs": [
    {
     "name": "stdout",
     "output_type": "stream",
     "text": [
      "['abouttowatchsawivanddrinkalilwin' 'hatermagazineimin'\n",
      " 'eventhoughitsmyfavouritedrinkithinkitsthevodkaandcokethatwipesmymindallthetimethinkimgonnahavetofindanewdrink'\n",
      " ... 'iseagerformondayafternoon'\n",
      " 'hopeeveryoneandtheirmotherhadagreatdaycantwaittohearwhattheguyshaveinstoretomorrow'\n",
      " 'ilovewakinguptofolgerstoobadmyvoicewasdeeperthanhi']\n"
     ]
    }
   ],
   "source": [
    "print(x_train)"
   ]
  },
  {
   "cell_type": "code",
   "execution_count": 28,
   "metadata": {},
   "outputs": [
    {
     "name": "stdout",
     "output_type": "stream",
     "text": [
      "['mmangenmdoingfineihaventhadmuchtimetochatontwitterhubbyisbackforthesummeramptendstodominatemyfreetim'\n",
      " 'atahsmayshowwruthkimampgeoffreysanhueza'\n",
      " 'ishataramaybeitwasonlyabayareathangdammit' ...\n",
      " 'destinineverthelesshoorayformembersandhaveawonderfulandsafetrip'\n",
      " 'notfeelingtoowel' 'supersandrothanky']\n"
     ]
    }
   ],
   "source": [
    "print(x_test)"
   ]
  },
  {
   "cell_type": "code",
   "execution_count": 29,
   "metadata": {},
   "outputs": [],
   "source": [
    "#feature extraction, text to numerical\n",
    "vetorizer = TfidfVectorizer()\n",
    "x_train = vetorizer.fit_transform(x_train)\n",
    "x_test = vetorizer.transform(x_test)"
   ]
  },
  {
   "cell_type": "code",
   "execution_count": 30,
   "metadata": {},
   "outputs": [
    {
     "name": "stdout",
     "output_type": "stream",
     "text": [
      "  (0, 4269)\t1.0\n",
      "  (1, 370480)\t1.0\n",
      "  (2, 259880)\t1.0\n",
      "  (3, 544666)\t1.0\n",
      "  (4, 1125701)\t1.0\n",
      "  (5, 183086)\t1.0\n",
      "  (6, 655948)\t1.0\n",
      "  (7, 427971)\t1.0\n",
      "  (8, 372295)\t1.0\n",
      "  (9, 414373)\t1.0\n",
      "  (10, 453208)\t1.0\n",
      "  (11, 946319)\t1.0\n",
      "  (12, 1165289)\t1.0\n",
      "  (13, 334895)\t1.0\n",
      "  (14, 1029553)\t1.0\n",
      "  (15, 1251402)\t1.0\n",
      "  (16, 26695)\t1.0\n",
      "  (17, 620647)\t1.0\n",
      "  (18, 371057)\t1.0\n",
      "  (19, 166386)\t1.0\n",
      "  (20, 939669)\t1.0\n",
      "  (21, 392757)\t1.0\n",
      "  (22, 288393)\t1.0\n",
      "  (23, 202691)\t1.0\n",
      "  (24, 1253485)\t1.0\n",
      "  :\t:\n",
      "  (1279975, 97246)\t1.0\n",
      "  (1279976, 1110785)\t1.0\n",
      "  (1279977, 938977)\t1.0\n",
      "  (1279978, 783486)\t1.0\n",
      "  (1279979, 800940)\t1.0\n",
      "  (1279980, 865426)\t1.0\n",
      "  (1279981, 587374)\t1.0\n",
      "  (1279982, 952983)\t1.0\n",
      "  (1279983, 412835)\t1.0\n",
      "  (1279984, 81686)\t1.0\n",
      "  (1279985, 59068)\t1.0\n",
      "  (1279986, 1015980)\t1.0\n",
      "  (1279987, 777249)\t1.0\n",
      "  (1279988, 1218721)\t1.0\n",
      "  (1279989, 450974)\t1.0\n",
      "  (1279990, 465153)\t1.0\n",
      "  (1279991, 249224)\t1.0\n",
      "  (1279992, 1169856)\t1.0\n",
      "  (1279993, 1170146)\t1.0\n",
      "  (1279994, 75557)\t1.0\n",
      "  (1279995, 1106998)\t1.0\n",
      "  (1279996, 561115)\t1.0\n",
      "  (1279997, 516695)\t1.0\n",
      "  (1279998, 400782)\t1.0\n",
      "  (1279999, 469315)\t1.0\n"
     ]
    }
   ],
   "source": [
    "print(x_train)"
   ]
  },
  {
   "cell_type": "code",
   "execution_count": null,
   "metadata": {},
   "outputs": [],
   "source": [
    "#training the ML model\n",
    "#logistic regression\n",
    "model = LogisticRegression(max_iter=1000) #max_iter parameter in logistic regression is used to set the maximum number of iteration"
   ]
  },
  {
   "cell_type": "code",
   "execution_count": 32,
   "metadata": {},
   "outputs": [
    {
     "data": {
      "text/html": [
       "<style>#sk-container-id-1 {color: black;background-color: white;}#sk-container-id-1 pre{padding: 0;}#sk-container-id-1 div.sk-toggleable {background-color: white;}#sk-container-id-1 label.sk-toggleable__label {cursor: pointer;display: block;width: 100%;margin-bottom: 0;padding: 0.3em;box-sizing: border-box;text-align: center;}#sk-container-id-1 label.sk-toggleable__label-arrow:before {content: \"▸\";float: left;margin-right: 0.25em;color: #696969;}#sk-container-id-1 label.sk-toggleable__label-arrow:hover:before {color: black;}#sk-container-id-1 div.sk-estimator:hover label.sk-toggleable__label-arrow:before {color: black;}#sk-container-id-1 div.sk-toggleable__content {max-height: 0;max-width: 0;overflow: hidden;text-align: left;background-color: #f0f8ff;}#sk-container-id-1 div.sk-toggleable__content pre {margin: 0.2em;color: black;border-radius: 0.25em;background-color: #f0f8ff;}#sk-container-id-1 input.sk-toggleable__control:checked~div.sk-toggleable__content {max-height: 200px;max-width: 100%;overflow: auto;}#sk-container-id-1 input.sk-toggleable__control:checked~label.sk-toggleable__label-arrow:before {content: \"▾\";}#sk-container-id-1 div.sk-estimator input.sk-toggleable__control:checked~label.sk-toggleable__label {background-color: #d4ebff;}#sk-container-id-1 div.sk-label input.sk-toggleable__control:checked~label.sk-toggleable__label {background-color: #d4ebff;}#sk-container-id-1 input.sk-hidden--visually {border: 0;clip: rect(1px 1px 1px 1px);clip: rect(1px, 1px, 1px, 1px);height: 1px;margin: -1px;overflow: hidden;padding: 0;position: absolute;width: 1px;}#sk-container-id-1 div.sk-estimator {font-family: monospace;background-color: #f0f8ff;border: 1px dotted black;border-radius: 0.25em;box-sizing: border-box;margin-bottom: 0.5em;}#sk-container-id-1 div.sk-estimator:hover {background-color: #d4ebff;}#sk-container-id-1 div.sk-parallel-item::after {content: \"\";width: 100%;border-bottom: 1px solid gray;flex-grow: 1;}#sk-container-id-1 div.sk-label:hover label.sk-toggleable__label {background-color: #d4ebff;}#sk-container-id-1 div.sk-serial::before {content: \"\";position: absolute;border-left: 1px solid gray;box-sizing: border-box;top: 0;bottom: 0;left: 50%;z-index: 0;}#sk-container-id-1 div.sk-serial {display: flex;flex-direction: column;align-items: center;background-color: white;padding-right: 0.2em;padding-left: 0.2em;position: relative;}#sk-container-id-1 div.sk-item {position: relative;z-index: 1;}#sk-container-id-1 div.sk-parallel {display: flex;align-items: stretch;justify-content: center;background-color: white;position: relative;}#sk-container-id-1 div.sk-item::before, #sk-container-id-1 div.sk-parallel-item::before {content: \"\";position: absolute;border-left: 1px solid gray;box-sizing: border-box;top: 0;bottom: 0;left: 50%;z-index: -1;}#sk-container-id-1 div.sk-parallel-item {display: flex;flex-direction: column;z-index: 1;position: relative;background-color: white;}#sk-container-id-1 div.sk-parallel-item:first-child::after {align-self: flex-end;width: 50%;}#sk-container-id-1 div.sk-parallel-item:last-child::after {align-self: flex-start;width: 50%;}#sk-container-id-1 div.sk-parallel-item:only-child::after {width: 0;}#sk-container-id-1 div.sk-dashed-wrapped {border: 1px dashed gray;margin: 0 0.4em 0.5em 0.4em;box-sizing: border-box;padding-bottom: 0.4em;background-color: white;}#sk-container-id-1 div.sk-label label {font-family: monospace;font-weight: bold;display: inline-block;line-height: 1.2em;}#sk-container-id-1 div.sk-label-container {text-align: center;}#sk-container-id-1 div.sk-container {/* jupyter's `normalize.less` sets `[hidden] { display: none; }` but bootstrap.min.css set `[hidden] { display: none !important; }` so we also need the `!important` here to be able to override the default hidden behavior on the sphinx rendered scikit-learn.org. See: https://github.com/scikit-learn/scikit-learn/issues/21755 */display: inline-block !important;position: relative;}#sk-container-id-1 div.sk-text-repr-fallback {display: none;}</style><div id=\"sk-container-id-1\" class=\"sk-top-container\"><div class=\"sk-text-repr-fallback\"><pre>LogisticRegression(max_iter=1000)</pre><b>In a Jupyter environment, please rerun this cell to show the HTML representation or trust the notebook. <br />On GitHub, the HTML representation is unable to render, please try loading this page with nbviewer.org.</b></div><div class=\"sk-container\" hidden><div class=\"sk-item\"><div class=\"sk-estimator sk-toggleable\"><input class=\"sk-toggleable__control sk-hidden--visually\" id=\"sk-estimator-id-1\" type=\"checkbox\" checked><label for=\"sk-estimator-id-1\" class=\"sk-toggleable__label sk-toggleable__label-arrow\">LogisticRegression</label><div class=\"sk-toggleable__content\"><pre>LogisticRegression(max_iter=1000)</pre></div></div></div></div></div>"
      ],
      "text/plain": [
       "LogisticRegression(max_iter=1000)"
      ]
     },
     "execution_count": 32,
     "metadata": {},
     "output_type": "execute_result"
    }
   ],
   "source": [
    "model.fit(x_train,y_train)"
   ]
  },
  {
   "cell_type": "code",
   "execution_count": 34,
   "metadata": {},
   "outputs": [
    {
     "name": "stdout",
     "output_type": "stream",
     "text": [
      "Accuracy_score on the training data :  0.99813046875\n"
     ]
    }
   ],
   "source": [
    "#Accuracy_score on the training data\n",
    "x_train_prediction = model.predict(x_train)\n",
    "training_data_accuracy = accuracy_score(y_train,x_train_prediction)\n",
    "print('Accuracy_score on the training data : ', training_data_accuracy)"
   ]
  },
  {
   "cell_type": "code",
   "execution_count": 35,
   "metadata": {},
   "outputs": [
    {
     "name": "stdout",
     "output_type": "stream",
     "text": [
      "Accuracy_score on the testing data :  0.5126625\n"
     ]
    }
   ],
   "source": [
    "#Accuracy_score on the test data\n",
    "x_test_prediction = model.predict(x_test)\n",
    "testing_data_accuracy = accuracy_score(y_test,x_test_prediction)\n",
    "print('Accuracy_score on the testing data : ', testing_data_accuracy)"
   ]
  },
  {
   "cell_type": "code",
   "execution_count": null,
   "metadata": {},
   "outputs": [],
   "source": [
    "#OVERFITTING THE GAP BETWEEN THE TEST AND TRAIN IS TOO MUCH\n",
    "#MODEL ACCURACY IS 51.2%\n"
   ]
  },
  {
   "cell_type": "code",
   "execution_count": 36,
   "metadata": {},
   "outputs": [],
   "source": [
    "import pickle"
   ]
  },
  {
   "cell_type": "code",
   "execution_count": 37,
   "metadata": {},
   "outputs": [],
   "source": [
    "filename = 'trained_model.sav'\n",
    "pickle.dump(model, open(filename, 'wb'))"
   ]
  },
  {
   "cell_type": "code",
   "execution_count": 42,
   "metadata": {},
   "outputs": [],
   "source": [
    "#USING THE SAME MODEL FOR FUTURE PREDICTION \n",
    "#LOADING THE MODEL\n",
    "loaded_model = pickle.load(open('C:/Users/Vipinjot Singh/Desktop/pandas/trained_model.sav', 'rb'))\n"
   ]
  },
  {
   "cell_type": "code",
   "execution_count": 48,
   "metadata": {},
   "outputs": [
    {
     "name": "stdout",
     "output_type": "stream",
     "text": [
      "1\n",
      "[1]\n",
      "positive tweet\n"
     ]
    }
   ],
   "source": [
    "x_new = x_test[400]\n",
    "print(y_test[400])\n",
    "prediction = model.predict(x_new)\n",
    "print(prediction)\n",
    "if (prediction[0]== 0):\n",
    "    print ('Negative tweet')\n",
    "else:\n",
    "    print('positive tweet')"
   ]
  },
  {
   "cell_type": "code",
   "execution_count": null,
   "metadata": {},
   "outputs": [],
   "source": []
  },
  {
   "cell_type": "code",
   "execution_count": null,
   "metadata": {},
   "outputs": [],
   "source": []
  }
 ],
 "metadata": {
  "kernelspec": {
   "display_name": "Python 3",
   "language": "python",
   "name": "python3"
  },
  "language_info": {
   "codemirror_mode": {
    "name": "ipython",
    "version": 3
   },
   "file_extension": ".py",
   "mimetype": "text/x-python",
   "name": "python",
   "nbconvert_exporter": "python",
   "pygments_lexer": "ipython3",
   "version": "3.11.3"
  }
 },
 "nbformat": 4,
 "nbformat_minor": 2
}
